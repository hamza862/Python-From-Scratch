{
 "cells": [
  {
   "cell_type": "code",
   "execution_count": 1,
   "id": "c1b52e33",
   "metadata": {},
   "outputs": [],
   "source": [
    "t=()"
   ]
  },
  {
   "cell_type": "code",
   "execution_count": 2,
   "id": "8a4378a1",
   "metadata": {},
   "outputs": [
    {
     "data": {
      "text/plain": [
       "tuple"
      ]
     },
     "execution_count": 2,
     "metadata": {},
     "output_type": "execute_result"
    }
   ],
   "source": [
    "type(t)"
   ]
  },
  {
   "cell_type": "code",
   "execution_count": 3,
   "id": "d1c64ba2",
   "metadata": {},
   "outputs": [],
   "source": [
    "t1=(234,\"sudh\",34,45.6,True)"
   ]
  },
  {
   "cell_type": "code",
   "execution_count": 4,
   "id": "68ccbf05",
   "metadata": {},
   "outputs": [
    {
     "data": {
      "text/plain": [
       "tuple"
      ]
     },
     "execution_count": 4,
     "metadata": {},
     "output_type": "execute_result"
    }
   ],
   "source": [
    "type(t1)"
   ]
  },
  {
   "cell_type": "code",
   "execution_count": 5,
   "id": "e7964fbc",
   "metadata": {},
   "outputs": [
    {
     "data": {
      "text/plain": [
       "(234, 'sudh', 34, 45.6, True)"
      ]
     },
     "execution_count": 5,
     "metadata": {},
     "output_type": "execute_result"
    }
   ],
   "source": [
    "t1"
   ]
  },
  {
   "cell_type": "code",
   "execution_count": 6,
   "id": "98a787aa",
   "metadata": {},
   "outputs": [
    {
     "data": {
      "text/plain": [
       "234"
      ]
     },
     "execution_count": 6,
     "metadata": {},
     "output_type": "execute_result"
    }
   ],
   "source": [
    "t1[0]"
   ]
  },
  {
   "cell_type": "code",
   "execution_count": 7,
   "id": "230756e8",
   "metadata": {},
   "outputs": [
    {
     "data": {
      "text/plain": [
       "(234, 'sudh', 34, 45.6)"
      ]
     },
     "execution_count": 7,
     "metadata": {},
     "output_type": "execute_result"
    }
   ],
   "source": [
    "t1[0:4]"
   ]
  },
  {
   "cell_type": "code",
   "execution_count": 8,
   "id": "4459a45f",
   "metadata": {},
   "outputs": [
    {
     "data": {
      "text/plain": [
       "True"
      ]
     },
     "execution_count": 8,
     "metadata": {},
     "output_type": "execute_result"
    }
   ],
   "source": [
    "t1[-1]"
   ]
  },
  {
   "cell_type": "code",
   "execution_count": 9,
   "id": "106643b3",
   "metadata": {},
   "outputs": [
    {
     "data": {
      "text/plain": [
       "(True, 45.6, 34, 'sudh', 234)"
      ]
     },
     "execution_count": 9,
     "metadata": {},
     "output_type": "execute_result"
    }
   ],
   "source": [
    "t1[::-1]"
   ]
  },
  {
   "cell_type": "code",
   "execution_count": 10,
   "id": "248ad971",
   "metadata": {},
   "outputs": [],
   "source": [
    "l1=[444,\"hamza\",54,334,False]"
   ]
  },
  {
   "cell_type": "code",
   "execution_count": 11,
   "id": "dd2715cf",
   "metadata": {},
   "outputs": [],
   "source": [
    "l1[0]=\"abid\""
   ]
  },
  {
   "cell_type": "code",
   "execution_count": 12,
   "id": "9f08a160",
   "metadata": {},
   "outputs": [
    {
     "data": {
      "text/plain": [
       "['abid', 'hamza', 54, 334, False]"
      ]
     },
     "execution_count": 12,
     "metadata": {},
     "output_type": "execute_result"
    }
   ],
   "source": [
    "l1"
   ]
  },
  {
   "cell_type": "code",
   "execution_count": 13,
   "id": "af505b6f",
   "metadata": {},
   "outputs": [
    {
     "ename": "TypeError",
     "evalue": "'tuple' object does not support item assignment",
     "output_type": "error",
     "traceback": [
      "\u001b[1;31m---------------------------------------------------------------------------\u001b[0m",
      "\u001b[1;31mTypeError\u001b[0m                                 Traceback (most recent call last)",
      "\u001b[1;32mC:\\Users\\MUHAMM~1\\AppData\\Local\\Temp/ipykernel_5588/2654712067.py\u001b[0m in \u001b[0;36m<module>\u001b[1;34m\u001b[0m\n\u001b[1;32m----> 1\u001b[1;33m \u001b[0mt1\u001b[0m\u001b[1;33m[\u001b[0m\u001b[1;36m0\u001b[0m\u001b[1;33m]\u001b[0m\u001b[1;33m=\u001b[0m\u001b[1;34m\"kumar\"\u001b[0m\u001b[1;33m\u001b[0m\u001b[1;33m\u001b[0m\u001b[0m\n\u001b[0m",
      "\u001b[1;31mTypeError\u001b[0m: 'tuple' object does not support item assignment"
     ]
    }
   ],
   "source": [
    "t1[0]=\"kumar\""
   ]
  },
  {
   "cell_type": "code",
   "execution_count": 17,
   "id": "a8883e22",
   "metadata": {},
   "outputs": [
    {
     "data": {
      "text/plain": [
       "(321, 33, 45)"
      ]
     },
     "execution_count": 17,
     "metadata": {},
     "output_type": "execute_result"
    }
   ],
   "source": [
    "t2=(321,33,45)\n",
    "t2"
   ]
  },
  {
   "cell_type": "code",
   "execution_count": 16,
   "id": "14088c49",
   "metadata": {},
   "outputs": [
    {
     "data": {
      "text/plain": [
       "(234, 'sudh', 34, 45.6, True)"
      ]
     },
     "execution_count": 16,
     "metadata": {},
     "output_type": "execute_result"
    }
   ],
   "source": [
    "t1"
   ]
  },
  {
   "cell_type": "code",
   "execution_count": 18,
   "id": "8ed271d2",
   "metadata": {},
   "outputs": [
    {
     "data": {
      "text/plain": [
       "(234, 'sudh', 34, 45.6, True, 321, 33, 45)"
      ]
     },
     "execution_count": 18,
     "metadata": {},
     "output_type": "execute_result"
    }
   ],
   "source": [
    "t1+t2"
   ]
  },
  {
   "cell_type": "code",
   "execution_count": 19,
   "id": "3947e638",
   "metadata": {},
   "outputs": [
    {
     "data": {
      "text/plain": [
       "(321, 33, 45, 321, 33, 45, 321, 33, 45, 321, 33, 45)"
      ]
     },
     "execution_count": 19,
     "metadata": {},
     "output_type": "execute_result"
    }
   ],
   "source": [
    "t2*4"
   ]
  },
  {
   "cell_type": "code",
   "execution_count": 20,
   "id": "16e81182",
   "metadata": {},
   "outputs": [
    {
     "data": {
      "text/plain": [
       "(234, 'sudh', 34, 45.6, True)"
      ]
     },
     "execution_count": 20,
     "metadata": {},
     "output_type": "execute_result"
    }
   ],
   "source": [
    "t1"
   ]
  },
  {
   "cell_type": "code",
   "execution_count": 21,
   "id": "c565e61d",
   "metadata": {},
   "outputs": [
    {
     "data": {
      "text/plain": [
       "True"
      ]
     },
     "execution_count": 21,
     "metadata": {},
     "output_type": "execute_result"
    }
   ],
   "source": [
    "34 in t1"
   ]
  },
  {
   "cell_type": "code",
   "execution_count": 22,
   "id": "807bb05b",
   "metadata": {},
   "outputs": [
    {
     "data": {
      "text/plain": [
       "False"
      ]
     },
     "execution_count": 22,
     "metadata": {},
     "output_type": "execute_result"
    }
   ],
   "source": [
    "555 in t1"
   ]
  },
  {
   "cell_type": "code",
   "execution_count": 23,
   "id": "e9777369",
   "metadata": {},
   "outputs": [],
   "source": [
    "t3=(34,56,22,77,434)"
   ]
  },
  {
   "cell_type": "code",
   "execution_count": 24,
   "id": "97ce64e9",
   "metadata": {},
   "outputs": [
    {
     "data": {
      "text/plain": [
       "434"
      ]
     },
     "execution_count": 24,
     "metadata": {},
     "output_type": "execute_result"
    }
   ],
   "source": [
    "max(t3)"
   ]
  },
  {
   "cell_type": "code",
   "execution_count": 25,
   "id": "c6135730",
   "metadata": {},
   "outputs": [
    {
     "data": {
      "text/plain": [
       "22"
      ]
     },
     "execution_count": 25,
     "metadata": {},
     "output_type": "execute_result"
    }
   ],
   "source": [
    "min(t3)"
   ]
  },
  {
   "cell_type": "code",
   "execution_count": 26,
   "id": "9d7cf971",
   "metadata": {},
   "outputs": [
    {
     "data": {
      "text/plain": [
       "(234, 'sudh', 34, 45.6, True)"
      ]
     },
     "execution_count": 26,
     "metadata": {},
     "output_type": "execute_result"
    }
   ],
   "source": [
    "t1"
   ]
  },
  {
   "cell_type": "code",
   "execution_count": 27,
   "id": "7fcd6a82",
   "metadata": {},
   "outputs": [
    {
     "data": {
      "text/plain": [
       "1"
      ]
     },
     "execution_count": 27,
     "metadata": {},
     "output_type": "execute_result"
    }
   ],
   "source": [
    "t1.count(\"sudh\")"
   ]
  },
  {
   "cell_type": "code",
   "execution_count": 28,
   "id": "e68ec92a",
   "metadata": {},
   "outputs": [
    {
     "data": {
      "text/plain": [
       "2"
      ]
     },
     "execution_count": 28,
     "metadata": {},
     "output_type": "execute_result"
    }
   ],
   "source": [
    "t1.index(34)"
   ]
  },
  {
   "cell_type": "code",
   "execution_count": 29,
   "id": "21a3e417",
   "metadata": {},
   "outputs": [
    {
     "data": {
      "text/plain": [
       "(234, 'sudh', 34, 45.6, True)"
      ]
     },
     "execution_count": 29,
     "metadata": {},
     "output_type": "execute_result"
    }
   ],
   "source": [
    "t1"
   ]
  },
  {
   "cell_type": "code",
   "execution_count": 30,
   "id": "07bb90fd",
   "metadata": {},
   "outputs": [],
   "source": [
    "l3=list(t1)"
   ]
  },
  {
   "cell_type": "code",
   "execution_count": 31,
   "id": "fc025dd0",
   "metadata": {},
   "outputs": [
    {
     "data": {
      "text/plain": [
       "[234, 'sudh', 34, 45.6, True]"
      ]
     },
     "execution_count": 31,
     "metadata": {},
     "output_type": "execute_result"
    }
   ],
   "source": [
    "l3"
   ]
  },
  {
   "cell_type": "code",
   "execution_count": 32,
   "id": "265dbf44",
   "metadata": {},
   "outputs": [],
   "source": [
    "l3.insert(2,45)"
   ]
  },
  {
   "cell_type": "code",
   "execution_count": 33,
   "id": "313b25cf",
   "metadata": {},
   "outputs": [
    {
     "data": {
      "text/plain": [
       "[234, 'sudh', 45, 34, 45.6, True]"
      ]
     },
     "execution_count": 33,
     "metadata": {},
     "output_type": "execute_result"
    }
   ],
   "source": [
    "l3"
   ]
  },
  {
   "cell_type": "code",
   "execution_count": 34,
   "id": "d8229c56",
   "metadata": {},
   "outputs": [
    {
     "data": {
      "text/plain": [
       "(234, 'sudh', 45, 34, 45.6, True)"
      ]
     },
     "execution_count": 34,
     "metadata": {},
     "output_type": "execute_result"
    }
   ],
   "source": [
    "tuple(l3)"
   ]
  },
  {
   "cell_type": "code",
   "execution_count": 35,
   "id": "c8749301",
   "metadata": {},
   "outputs": [],
   "source": [
    "t=((2,3,4), (\"s\",5,6,7), (\"e\",3,4,2),8,9,0)"
   ]
  },
  {
   "cell_type": "code",
   "execution_count": 36,
   "id": "3c07d81a",
   "metadata": {},
   "outputs": [
    {
     "data": {
      "text/plain": [
       "((2, 3, 4), ('s', 5, 6, 7), ('e', 3, 4, 2), 8, 9, 0)"
      ]
     },
     "execution_count": 36,
     "metadata": {},
     "output_type": "execute_result"
    }
   ],
   "source": [
    "t"
   ]
  },
  {
   "cell_type": "code",
   "execution_count": 37,
   "id": "a79928d3",
   "metadata": {},
   "outputs": [
    {
     "data": {
      "text/plain": [
       "'s'"
      ]
     },
     "execution_count": 37,
     "metadata": {},
     "output_type": "execute_result"
    }
   ],
   "source": [
    "t[1][0]"
   ]
  },
  {
   "cell_type": "code",
   "execution_count": 38,
   "id": "585f047e",
   "metadata": {},
   "outputs": [
    {
     "name": "stdout",
     "output_type": "stream",
     "text": [
      "2\n",
      "s\n",
      "e\n"
     ]
    }
   ],
   "source": [
    "for i in t:\n",
    "    if type(i)==tuple:\n",
    "        print(i[0])"
   ]
  },
  {
   "cell_type": "code",
   "execution_count": 39,
   "id": "d903c973",
   "metadata": {},
   "outputs": [
    {
     "data": {
      "text/plain": [
       "(234, 'sudh', 34, 45.6, True)"
      ]
     },
     "execution_count": 39,
     "metadata": {},
     "output_type": "execute_result"
    }
   ],
   "source": [
    "t1"
   ]
  },
  {
   "cell_type": "code",
   "execution_count": 40,
   "id": "8a3af30b",
   "metadata": {},
   "outputs": [
    {
     "data": {
      "text/plain": [
       "(321, 33, 45)"
      ]
     },
     "execution_count": 40,
     "metadata": {},
     "output_type": "execute_result"
    }
   ],
   "source": [
    "t2"
   ]
  },
  {
   "cell_type": "code",
   "execution_count": 42,
   "id": "83632313",
   "metadata": {},
   "outputs": [
    {
     "name": "stdout",
     "output_type": "stream",
     "text": [
      "length are not same\n"
     ]
    }
   ],
   "source": [
    "if len(t1)==len(t2):\n",
    "    print(\"length of both tuples are same\")\n",
    "else:\n",
    "    print(\"length are not same\")"
   ]
  },
  {
   "cell_type": "code",
   "execution_count": 43,
   "id": "c2980c89",
   "metadata": {},
   "outputs": [],
   "source": [
    "t=(234, 'sudh', 34, 45.6, True, \"kumar\")"
   ]
  },
  {
   "cell_type": "code",
   "execution_count": 44,
   "id": "8f1834f0",
   "metadata": {},
   "outputs": [
    {
     "data": {
      "text/plain": [
       "(234, 'sudh', 34, 45.6, True, 'kumar')"
      ]
     },
     "execution_count": 44,
     "metadata": {},
     "output_type": "execute_result"
    }
   ],
   "source": [
    "t"
   ]
  },
  {
   "cell_type": "code",
   "execution_count": null,
   "id": "8cc8b386",
   "metadata": {},
   "outputs": [],
   "source": [
    "x=input(\"Take a user input: \")\n"
   ]
  },
  {
   "cell_type": "code",
   "execution_count": 5,
   "id": "a8af25c7",
   "metadata": {},
   "outputs": [
    {
     "name": "stdout",
     "output_type": "stream",
     "text": [
      "10\n",
      "10\n",
      "10\n",
      "10\n",
      "10\n",
      "10\n",
      "10\n",
      "10\n",
      "10\n",
      "10\n"
     ]
    }
   ],
   "source": [
    "a=10\n",
    "for i in range(a):\n",
    "    if a%2==0:\n",
    "        print(a)"
   ]
  },
  {
   "cell_type": "code",
   "execution_count": null,
   "id": "4e331e7d",
   "metadata": {},
   "outputs": [],
   "source": []
  }
 ],
 "metadata": {
  "kernelspec": {
   "display_name": "Python 3 (ipykernel)",
   "language": "python",
   "name": "python3"
  },
  "language_info": {
   "codemirror_mode": {
    "name": "ipython",
    "version": 3
   },
   "file_extension": ".py",
   "mimetype": "text/x-python",
   "name": "python",
   "nbconvert_exporter": "python",
   "pygments_lexer": "ipython3",
   "version": "3.9.7"
  }
 },
 "nbformat": 4,
 "nbformat_minor": 5
}
