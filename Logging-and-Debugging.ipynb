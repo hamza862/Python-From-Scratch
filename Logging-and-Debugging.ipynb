{
 "cells": [
  {
   "cell_type": "code",
   "execution_count": 2,
   "id": "329e00fd",
   "metadata": {},
   "outputs": [],
   "source": [
    "import logging as lg"
   ]
  },
  {
   "cell_type": "code",
   "execution_count": 3,
   "id": "a86da1f5",
   "metadata": {},
   "outputs": [],
   "source": [
    "import os"
   ]
  },
  {
   "cell_type": "code",
   "execution_count": 4,
   "id": "b09c3a2b",
   "metadata": {},
   "outputs": [
    {
     "ename": "FileExistsError",
     "evalue": "[WinError 183] Cannot create a file when that file already exists: 'Logging'",
     "output_type": "error",
     "traceback": [
      "\u001b[1;31m---------------------------------------------------------------------------\u001b[0m",
      "\u001b[1;31mFileExistsError\u001b[0m                           Traceback (most recent call last)",
      "\u001b[1;32mC:\\Users\\MUHAMM~1\\AppData\\Local\\Temp/ipykernel_9072/2860340340.py\u001b[0m in \u001b[0;36m<module>\u001b[1;34m\u001b[0m\n\u001b[1;32m----> 1\u001b[1;33m \u001b[0mos\u001b[0m\u001b[1;33m.\u001b[0m\u001b[0mmkdir\u001b[0m\u001b[1;33m(\u001b[0m\u001b[1;34m\"Logging\"\u001b[0m\u001b[1;33m)\u001b[0m\u001b[1;33m\u001b[0m\u001b[1;33m\u001b[0m\u001b[0m\n\u001b[0m",
      "\u001b[1;31mFileExistsError\u001b[0m: [WinError 183] Cannot create a file when that file already exists: 'Logging'"
     ]
    }
   ],
   "source": [
    "os.mkdir(\"Logging\")"
   ]
  },
  {
   "cell_type": "code",
   "execution_count": 5,
   "id": "8b870401",
   "metadata": {},
   "outputs": [
    {
     "data": {
      "text/plain": [
       "'C:\\\\Users\\\\Muhammad Hamza Abid'"
      ]
     },
     "execution_count": 5,
     "metadata": {},
     "output_type": "execute_result"
    }
   ],
   "source": [
    "pwd()"
   ]
  },
  {
   "cell_type": "code",
   "execution_count": 6,
   "id": "ed1a2b1e",
   "metadata": {},
   "outputs": [],
   "source": [
    "os.chdir(os.getcwd()+ \"/\" + \"Logging\")"
   ]
  },
  {
   "cell_type": "code",
   "execution_count": 7,
   "id": "a71f39e4",
   "metadata": {},
   "outputs": [
    {
     "data": {
      "text/plain": [
       "'C:\\\\Users\\\\Muhammad Hamza Abid\\\\Logging'"
      ]
     },
     "execution_count": 7,
     "metadata": {},
     "output_type": "execute_result"
    }
   ],
   "source": [
    "pwd()"
   ]
  },
  {
   "cell_type": "code",
   "execution_count": 8,
   "id": "621f853c",
   "metadata": {},
   "outputs": [],
   "source": [
    "lg.basicConfig(filename=\"test.log\", level=lg.INFO, format='%(asctime)s %(message)s')"
   ]
  },
  {
   "cell_type": "code",
   "execution_count": 9,
   "id": "7d5eae26",
   "metadata": {},
   "outputs": [],
   "source": [
    "lg.info(\"I am going to start my program\")"
   ]
  },
  {
   "cell_type": "code",
   "execution_count": 10,
   "id": "4d966de0",
   "metadata": {},
   "outputs": [],
   "source": [
    "lg.warning(\"This is my first warning of the program to modify it\")"
   ]
  },
  {
   "cell_type": "code",
   "execution_count": 11,
   "id": "a939ff7c",
   "metadata": {},
   "outputs": [],
   "source": [
    "lg.error(\"This is a message of error\")"
   ]
  },
  {
   "cell_type": "code",
   "execution_count": 18,
   "id": "79ff0329",
   "metadata": {},
   "outputs": [],
   "source": [
    "def test(a,b):\n",
    "    try:\n",
    "        lg.info(str(a)+str(b))\n",
    "        div=a/b\n",
    "        return div\n",
    "    except Exception as e:\n",
    "        print(\"you can check your log if any of your code fail\")\n",
    "        lg.error(\"Error has occured\")\n",
    "        lg.exception(str(e))"
   ]
  },
  {
   "cell_type": "code",
   "execution_count": 19,
   "id": "ccc44c19",
   "metadata": {},
   "outputs": [
    {
     "name": "stdout",
     "output_type": "stream",
     "text": [
      "you can check your log if any of your code fail\n"
     ]
    }
   ],
   "source": [
    "test(4,0)"
   ]
  },
  {
   "cell_type": "code",
   "execution_count": 1,
   "id": "a4118577",
   "metadata": {},
   "outputs": [],
   "source": [
    "import logging as lg\n",
    "lg.basicConfig(filename=\"test1.log\", level=lg.INFO)\n",
    "def test1(a,b):\n",
    "    lg.info(\"This is the start of the program\")\n",
    "    return a+b"
   ]
  },
  {
   "cell_type": "code",
   "execution_count": 3,
   "id": "915a859c",
   "metadata": {},
   "outputs": [
    {
     "data": {
      "text/plain": [
       "9"
      ]
     },
     "execution_count": 3,
     "metadata": {},
     "output_type": "execute_result"
    }
   ],
   "source": [
    "test1(5,4)"
   ]
  },
  {
   "cell_type": "code",
   "execution_count": 4,
   "id": "e12d97a9",
   "metadata": {},
   "outputs": [
    {
     "data": {
      "text/plain": [
       "120"
      ]
     },
     "execution_count": 4,
     "metadata": {},
     "output_type": "execute_result"
    }
   ],
   "source": [
    "test1(66,54)"
   ]
  },
  {
   "cell_type": "code",
   "execution_count": 5,
   "id": "c5e609a3",
   "metadata": {},
   "outputs": [],
   "source": [
    "lg.shutdown()"
   ]
  },
  {
   "cell_type": "code",
   "execution_count": 9,
   "id": "a95a87a0",
   "metadata": {},
   "outputs": [],
   "source": [
    "import logging as lg\n",
    "import os"
   ]
  },
  {
   "cell_type": "code",
   "execution_count": 10,
   "id": "f8b94c71",
   "metadata": {},
   "outputs": [
    {
     "data": {
      "text/plain": [
       "'C:\\\\Users\\\\Muhammad Hamza Abid\\\\Logging'"
      ]
     },
     "execution_count": 10,
     "metadata": {},
     "output_type": "execute_result"
    }
   ],
   "source": [
    "pwd()"
   ]
  },
  {
   "cell_type": "code",
   "execution_count": 11,
   "id": "c53c11f4",
   "metadata": {},
   "outputs": [
    {
     "ename": "FileNotFoundError",
     "evalue": "[WinError 2] The system cannot find the file specified: 'C:\\\\Users\\\\Muhammad Hamza Abid\\\\Logging/Logging'",
     "output_type": "error",
     "traceback": [
      "\u001b[1;31m---------------------------------------------------------------------------\u001b[0m",
      "\u001b[1;31mFileNotFoundError\u001b[0m                         Traceback (most recent call last)",
      "\u001b[1;32mC:\\Users\\MUHAMM~1\\AppData\\Local\\Temp/ipykernel_5568/3252457207.py\u001b[0m in \u001b[0;36m<module>\u001b[1;34m\u001b[0m\n\u001b[1;32m----> 1\u001b[1;33m \u001b[0mos\u001b[0m\u001b[1;33m.\u001b[0m\u001b[0mchdir\u001b[0m\u001b[1;33m(\u001b[0m\u001b[0mos\u001b[0m\u001b[1;33m.\u001b[0m\u001b[0mgetcwd\u001b[0m\u001b[1;33m(\u001b[0m\u001b[1;33m)\u001b[0m\u001b[1;33m+\u001b[0m\u001b[1;34m'/'\u001b[0m\u001b[1;33m+\u001b[0m\u001b[1;34m'Logging'\u001b[0m\u001b[1;33m)\u001b[0m\u001b[1;33m\u001b[0m\u001b[1;33m\u001b[0m\u001b[0m\n\u001b[0m",
      "\u001b[1;31mFileNotFoundError\u001b[0m: [WinError 2] The system cannot find the file specified: 'C:\\\\Users\\\\Muhammad Hamza Abid\\\\Logging/Logging'"
     ]
    }
   ],
   "source": [
    "os.chdir(os.getcwd()+'/'+'Logging')"
   ]
  },
  {
   "cell_type": "code",
   "execution_count": 12,
   "id": "534ae08c",
   "metadata": {},
   "outputs": [
    {
     "data": {
      "text/plain": [
       "'C:\\\\Users\\\\Muhammad Hamza Abid\\\\Logging'"
      ]
     },
     "execution_count": 12,
     "metadata": {},
     "output_type": "execute_result"
    }
   ],
   "source": [
    "pwd()"
   ]
  },
  {
   "cell_type": "code",
   "execution_count": 19,
   "id": "5fc1fa41",
   "metadata": {},
   "outputs": [
    {
     "data": {
      "text/plain": [
       "'2022-04-19 14:33:15,692 (1, 2, 3, 4, 5)\\n2022-04-19 14:33:15,692 This is summation functions of multiple inputs given by user\\n2022-04-19 14:34:32,835 (1, 2, 3, 4, 5)\\n2022-04-19 14:34:32,835 This is summation functions of multiple inputs given by user\\n'"
      ]
     },
     "execution_count": 19,
     "metadata": {},
     "output_type": "execute_result"
    }
   ],
   "source": [
    "lg.basicConfig(filename=\"test2.log\", level=lg.INFO, format='%(asctime)s %(message)s')\n",
    "def test2(*args):\n",
    "    lg.info(str(args))\n",
    "    lg.info(\"This is summation functions of multiple inputs given by user\")\n",
    "    return sum(args)\n",
    "\n",
    "f=open(\"test2.log\",\"r\")\n",
    "f.read()"
   ]
  },
  {
   "cell_type": "code",
   "execution_count": 17,
   "id": "81111717",
   "metadata": {},
   "outputs": [
    {
     "data": {
      "text/plain": [
       "15"
      ]
     },
     "execution_count": 17,
     "metadata": {},
     "output_type": "execute_result"
    }
   ],
   "source": [
    "test2(1,2,3,4,5)"
   ]
  },
  {
   "cell_type": "code",
   "execution_count": 25,
   "id": "08d89009",
   "metadata": {},
   "outputs": [
    {
     "data": {
      "text/plain": [
       "<function TextIOWrapper.close()>"
      ]
     },
     "execution_count": 25,
     "metadata": {},
     "output_type": "execute_result"
    }
   ],
   "source": [
    "f=open(\"test2.log\",\"r\")\n",
    "f.readlines()\n",
    "f.close"
   ]
  },
  {
   "cell_type": "code",
   "execution_count": 26,
   "id": "b29da7b7",
   "metadata": {},
   "outputs": [
    {
     "data": {
      "text/plain": [
       "'C:\\\\Users\\\\Muhammad Hamza Abid\\\\Logging'"
      ]
     },
     "execution_count": 26,
     "metadata": {},
     "output_type": "execute_result"
    }
   ],
   "source": [
    "pwd()"
   ]
  },
  {
   "cell_type": "code",
   "execution_count": 5,
   "id": "70768b4e",
   "metadata": {},
   "outputs": [
    {
     "name": "stderr",
     "output_type": "stream",
     "text": [
      "%(asctime)s %(levelname)s %(message)s\n",
      "%(asctime)s %(levelname)s %(message)s\n",
      "%(asctime)s %(levelname)s %(message)s\n",
      "%(asctime)s %(levelname)s %(message)s\n",
      "%(asctime)s %(levelname)s %(message)s\n",
      "%(asctime)s %(levelname)s %(message)s\n",
      "%(asctime)s %(levelname)s %(message)s\n",
      "%(asctime)s %(levelname)s %(message)s\n",
      "%(asctime)s %(levelname)s %(message)s\n",
      "%(asctime)s %(levelname)s %(message)s\n",
      "%(asctime)s %(levelname)s %(message)s\n",
      "%(asctime)s %(levelname)s %(message)s\n",
      "%(asctime)s %(levelname)s %(message)s\n",
      "%(asctime)s %(levelname)s %(message)s\n",
      "%(asctime)s %(levelname)s %(message)s\n",
      "%(asctime)s %(levelname)s %(message)s\n"
     ]
    }
   ],
   "source": [
    "import logging as lg\n",
    "lg.basicConfig(filename=\"test3.log\", level=lg.DEBUG, format=\"%(asctime)s %(levelname)s %(message)s\")\n",
    "console_log=lg.StreamHandler()\n",
    "console_log.setLevel(lg.DEBUG)\n",
    "format= \"%(asctime)s %(levelname)s %(message)s\"\n",
    "console_log.setFormatter(format)\n",
    "lg.getLogger().addHandler(console_log)\n",
    "lg.info(\"This is my first log code\")\n",
    "logger1=lg.getLogger(\"logger1.area1\")\n",
    "logger2=lg.getLogger(\"logger2.area2\")\n",
    "logger1.info(\"this is info for logger1\")\n",
    "logger2.debug(\"this is debug for logger2\")\n",
    "logger2.info(\"this is info for logger2\")"
   ]
  },
  {
   "cell_type": "code",
   "execution_count": 6,
   "id": "d97c716b",
   "metadata": {},
   "outputs": [],
   "source": [
    "def testdebug():\n",
    "    l=[]\n",
    "    for i in range(10):\n",
    "        l.append(i)\n",
    "        print(\"Integer is appended in the list\")\n",
    "    return l"
   ]
  },
  {
   "cell_type": "code",
   "execution_count": 7,
   "id": "023e8f8f",
   "metadata": {},
   "outputs": [
    {
     "name": "stdout",
     "output_type": "stream",
     "text": [
      "Integer is appended in the list\n",
      "Integer is appended in the list\n",
      "Integer is appended in the list\n",
      "Integer is appended in the list\n",
      "Integer is appended in the list\n",
      "Integer is appended in the list\n",
      "Integer is appended in the list\n",
      "Integer is appended in the list\n",
      "Integer is appended in the list\n",
      "Integer is appended in the list\n"
     ]
    },
    {
     "data": {
      "text/plain": [
       "[0, 1, 2, 3, 4, 5, 6, 7, 8, 9]"
      ]
     },
     "execution_count": 7,
     "metadata": {},
     "output_type": "execute_result"
    }
   ],
   "source": [
    "testdebug()"
   ]
  },
  {
   "cell_type": "code",
   "execution_count": 11,
   "id": "1a9d9693",
   "metadata": {},
   "outputs": [
    {
     "name": "stdout",
     "output_type": "stream",
     "text": [
      "Collecting ipdb\n",
      "  Downloading ipdb-0.13.9.tar.gz (16 kB)\n",
      "Requirement already satisfied: setuptools in c:\\users\\muhammad hamza abid\\anaconda3\\lib\\site-packages (from ipdb) (58.0.4)\n",
      "Requirement already satisfied: ipython>=7.17.0 in c:\\users\\muhammad hamza abid\\anaconda3\\lib\\site-packages (from ipdb) (7.29.0)\n",
      "Requirement already satisfied: toml>=0.10.2 in c:\\users\\muhammad hamza abid\\anaconda3\\lib\\site-packages (from ipdb) (0.10.2)\n",
      "Requirement already satisfied: decorator in c:\\users\\muhammad hamza abid\\anaconda3\\lib\\site-packages (from ipdb) (5.1.0)\n",
      "Requirement already satisfied: pickleshare in c:\\users\\muhammad hamza abid\\anaconda3\\lib\\site-packages (from ipython>=7.17.0->ipdb) (0.7.5)\n",
      "Requirement already satisfied: traitlets>=4.2 in c:\\users\\muhammad hamza abid\\anaconda3\\lib\\site-packages (from ipython>=7.17.0->ipdb) (5.1.0)\n",
      "Requirement already satisfied: matplotlib-inline in c:\\users\\muhammad hamza abid\\anaconda3\\lib\\site-packages (from ipython>=7.17.0->ipdb) (0.1.2)\n",
      "Requirement already satisfied: colorama in c:\\users\\muhammad hamza abid\\anaconda3\\lib\\site-packages (from ipython>=7.17.0->ipdb) (0.4.4)\n",
      "Requirement already satisfied: prompt-toolkit!=3.0.0,!=3.0.1,<3.1.0,>=2.0.0 in c:\\users\\muhammad hamza abid\\anaconda3\\lib\\site-packages (from ipython>=7.17.0->ipdb) (3.0.20)\n",
      "Requirement already satisfied: pygments in c:\\users\\muhammad hamza abid\\anaconda3\\lib\\site-packages (from ipython>=7.17.0->ipdb) (2.10.0)\n",
      "Requirement already satisfied: backcall in c:\\users\\muhammad hamza abid\\anaconda3\\lib\\site-packages (from ipython>=7.17.0->ipdb) (0.2.0)\n",
      "Requirement already satisfied: jedi>=0.16 in c:\\users\\muhammad hamza abid\\anaconda3\\lib\\site-packages (from ipython>=7.17.0->ipdb) (0.18.0)\n",
      "Requirement already satisfied: parso<0.9.0,>=0.8.0 in c:\\users\\muhammad hamza abid\\anaconda3\\lib\\site-packages (from jedi>=0.16->ipython>=7.17.0->ipdb) (0.8.2)\n",
      "Requirement already satisfied: wcwidth in c:\\users\\muhammad hamza abid\\anaconda3\\lib\\site-packages (from prompt-toolkit!=3.0.0,!=3.0.1,<3.1.0,>=2.0.0->ipython>=7.17.0->ipdb) (0.2.5)\n",
      "Building wheels for collected packages: ipdb\n",
      "  Building wheel for ipdb (setup.py): started\n",
      "  Building wheel for ipdb (setup.py): finished with status 'done'\n",
      "  Created wheel for ipdb: filename=ipdb-0.13.9-py3-none-any.whl size=11648 sha256=a5cfc293d9b13cf423e4a93898248fed3417aff0fe881813e8bf3eb8ea524ff3\n",
      "  Stored in directory: c:\\users\\muhammad hamza abid\\appdata\\local\\pip\\cache\\wheels\\f7\\29\\9a\\cf774cd86e9802f075a0be1c9e0830bc062d07897b2e9e87cd\n",
      "Successfully built ipdb\n",
      "Installing collected packages: ipdb\n",
      "Successfully installed ipdb-0.13.9\n"
     ]
    }
   ],
   "source": [
    "!pip install ipdb"
   ]
  },
  {
   "cell_type": "code",
   "execution_count": 16,
   "id": "5b633883",
   "metadata": {},
   "outputs": [],
   "source": [
    "import ipdb"
   ]
  },
  {
   "cell_type": "code",
   "execution_count": 22,
   "id": "f19f84f9",
   "metadata": {},
   "outputs": [],
   "source": [
    "def test_debug():\n",
    "    ipdb.set_trace()\n",
    "    l=[]\n",
    "    for i in range(10):\n",
    "        l.append(i)\n",
    "        print(\"Integer is appended in the list\")\n",
    "    return l"
   ]
  },
  {
   "cell_type": "code",
   "execution_count": 24,
   "id": "7db95719",
   "metadata": {},
   "outputs": [
    {
     "name": "stdout",
     "output_type": "stream",
     "text": [
      "> \u001b[1;32mc:\\users\\muhamm~1\\appdata\\local\\temp\\ipykernel_564\\743270291.py\u001b[0m(3)\u001b[0;36mtest_debug\u001b[1;34m()\u001b[0m\n",
      "\n",
      "ipdb> next\n",
      "> \u001b[1;32mc:\\users\\muhamm~1\\appdata\\local\\temp\\ipykernel_564\\743270291.py\u001b[0m(4)\u001b[0;36mtest_debug\u001b[1;34m()\u001b[0m\n",
      "\n",
      "ipdb> next\n",
      "> \u001b[1;32mc:\\users\\muhamm~1\\appdata\\local\\temp\\ipykernel_564\\743270291.py\u001b[0m(5)\u001b[0;36mtest_debug\u001b[1;34m()\u001b[0m\n",
      "\n",
      "ipdb> next\n",
      "> \u001b[1;32mc:\\users\\muhamm~1\\appdata\\local\\temp\\ipykernel_564\\743270291.py\u001b[0m(6)\u001b[0;36mtest_debug\u001b[1;34m()\u001b[0m\n",
      "\n",
      "ipdb> next\n",
      "Integer is appended in the list\n",
      "> \u001b[1;32mc:\\users\\muhamm~1\\appdata\\local\\temp\\ipykernel_564\\743270291.py\u001b[0m(4)\u001b[0;36mtest_debug\u001b[1;34m()\u001b[0m\n",
      "\n",
      "ipdb> c\n",
      "Integer is appended in the list\n",
      "Integer is appended in the list\n",
      "Integer is appended in the list\n",
      "Integer is appended in the list\n",
      "Integer is appended in the list\n",
      "Integer is appended in the list\n",
      "Integer is appended in the list\n",
      "Integer is appended in the list\n",
      "Integer is appended in the list\n"
     ]
    },
    {
     "data": {
      "text/plain": [
       "[0, 1, 2, 3, 4, 5, 6, 7, 8, 9]"
      ]
     },
     "execution_count": 24,
     "metadata": {},
     "output_type": "execute_result"
    }
   ],
   "source": [
    "test_debug()"
   ]
  },
  {
   "cell_type": "code",
   "execution_count": 27,
   "id": "6833e504",
   "metadata": {},
   "outputs": [],
   "source": [
    "import ipdb"
   ]
  },
  {
   "cell_type": "code",
   "execution_count": 28,
   "id": "ae50e001",
   "metadata": {},
   "outputs": [],
   "source": [
    "def fun1():\n",
    "    ipdb.set_trace()\n",
    "    sum=0\n",
    "    for i in range(10):\n",
    "        print(\"This is i function\")\n",
    "    return i\n",
    "        "
   ]
  },
  {
   "cell_type": "code",
   "execution_count": null,
   "id": "94eccc20",
   "metadata": {},
   "outputs": [
    {
     "name": "stdout",
     "output_type": "stream",
     "text": [
      "> \u001b[1;32mc:\\users\\muhamm~1\\appdata\\local\\temp\\ipykernel_564\\3383137408.py\u001b[0m(3)\u001b[0;36mfun1\u001b[1;34m()\u001b[0m\n",
      "\n",
      "ipdb> n\n",
      "> \u001b[1;32mc:\\users\\muhamm~1\\appdata\\local\\temp\\ipykernel_564\\3383137408.py\u001b[0m(4)\u001b[0;36mfun1\u001b[1;34m()\u001b[0m\n",
      "\n",
      "ipdb> n\n",
      "> \u001b[1;32mc:\\users\\muhamm~1\\appdata\\local\\temp\\ipykernel_564\\3383137408.py\u001b[0m(5)\u001b[0;36mfun1\u001b[1;34m()\u001b[0m\n",
      "\n",
      "ipdb> n\n",
      "This is i function\n",
      "> \u001b[1;32mc:\\users\\muhamm~1\\appdata\\local\\temp\\ipykernel_564\\3383137408.py\u001b[0m(4)\u001b[0;36mfun1\u001b[1;34m()\u001b[0m\n",
      "\n"
     ]
    }
   ],
   "source": [
    "fun1()"
   ]
  },
  {
   "cell_type": "code",
   "execution_count": 3,
   "id": "a0d31177",
   "metadata": {},
   "outputs": [
    {
     "name": "stdout",
     "output_type": "stream",
     "text": [
      "Collecting tk-tools\n",
      "  Downloading tk_tools-0.15.0-py3-none-any.whl (171 kB)\n",
      "Collecting engineering-notation>=0.5\n",
      "  Downloading engineering_notation-0.6.0-py3-none-any.whl (5.7 kB)\n",
      "Installing collected packages: engineering-notation, tk-tools\n",
      "Successfully installed engineering-notation-0.6.0 tk-tools-0.15.0\n"
     ]
    }
   ],
   "source": [
    "!pip install tk-tools"
   ]
  },
  {
   "cell_type": "code",
   "execution_count": 5,
   "id": "87951f07",
   "metadata": {},
   "outputs": [],
   "source": [
    "import tkinter"
   ]
  },
  {
   "cell_type": "code",
   "execution_count": 7,
   "id": "cfc58f54",
   "metadata": {},
   "outputs": [],
   "source": [
    "from tkinter import *\n",
    "\n",
    "ws = Tk()\n",
    "Frm = Frame(ws)\n",
    "Label(Frm,text='Enter Word to Find:').pack(side=LEFT)\n",
    "modify = Entry(Frm)\n",
    "\n",
    "modify.pack(side=LEFT, fill=BOTH, expand=1)\n",
    "\n",
    "modify.focus_set()\n",
    "\n",
    "buttn = Button(Frm, text='Find')\n",
    "buttn.pack(side=RIGHT)\n",
    "Frm.pack(side=TOP)\n",
    "\n",
    "txt = Text(ws)\n",
    "\n",
    "txt.insert('1.0','''Enter here...''')\n",
    "txt.pack(side=BOTTOM)\n",
    "\n",
    "\n",
    "def find():\n",
    "\t\n",
    "\ttxt.tag_remove('found', '1.0', END)\n",
    "\tser = modify.get()\n",
    "\tif ser:\n",
    "\t\tidx = '1.0'\n",
    "\t\twhile 1:\n",
    "\t\t\tidx = txt.search(ser, idx, nocase=1,\n",
    "\t\t\t\t\t\t\tstopindex=END)\n",
    "\t\t\tif not idx: break\n",
    "\t\t\tlastidx = '%s+%dc' % (idx, len(ser))\n",
    "\t\t\t\n",
    "\t\t\ttxt.tag_add('found', idx, lastidx)\n",
    "\t\t\tidx = lastidx\n",
    "\t\ttxt.tag_config('found', foreground='blue')\n",
    "\tmodify.focus_set()\n",
    "buttn.config(command=find)\n",
    "\n",
    "ws.mainloop()\n"
   ]
  },
  {
   "cell_type": "code",
   "execution_count": 8,
   "id": "5180311f",
   "metadata": {},
   "outputs": [],
   "source": [
    "import os"
   ]
  },
  {
   "cell_type": "code",
   "execution_count": 9,
   "id": "3c9801cd",
   "metadata": {},
   "outputs": [
    {
     "name": "stdout",
     "output_type": "stream",
     "text": [
      "C:\\Users\\Muhammad Hamza Abid\\Downloads\n"
     ]
    }
   ],
   "source": [
    "%cd Downloads"
   ]
  },
  {
   "cell_type": "code",
   "execution_count": 13,
   "id": "e672452f",
   "metadata": {},
   "outputs": [],
   "source": [
    "strr = 'Account'"
   ]
  },
  {
   "cell_type": "code",
   "execution_count": 20,
   "id": "61a770c5",
   "metadata": {},
   "outputs": [
    {
     "data": {
      "text/plain": [
       "['108004527_2697154533900468_8764146362574425276_o.jpg',\n",
       " '2560px-Arrow_east.svg.png',\n",
       " 'a-internal-structure-of-an-elementary-natural-fiber-adapted-from-AZWA.png',\n",
       " 'Academic-year-2022-23_Muhammad-Hamza-Abid.pdf',\n",
       " 'Account Statement - 01-Feb-22 - baagfddajf.pdf',\n",
       " 'Account Statement - 07-Feb-22 - baagfddajf.pdf',\n",
       " 'Account Statement - 15-May-21 - baagfddajf.pdf',\n",
       " 'aloha_setup64.exe',\n",
       " 'Anaconda3-2021.11-Windows-x86_64.exe',\n",
       " 'app50683-fig-0001-m.jpg',\n",
       " 'Application_Guide_for_the_Stipendium_Hungaricum_Programme.pdf',\n",
       " 'ATT00001',\n",
       " 'Beaker.png',\n",
       " 'BookCover8_27x11_69_BW_560',\n",
       " 'CamScanner 01-10-2022 12.32.pdf',\n",
       " 'Curriculum Vitae.pdf',\n",
       " 'desktop.ini',\n",
       " 'Down arrow.png',\n",
       " 'Dr. Atta.docx',\n",
       " 'e9a432d033dc212d85589c9fcf2b5470.jpg',\n",
       " 'epdf.pub_composite-materials-design-and-applications.pdf',\n",
       " 'final defence.pptx',\n",
       " 'Final Paper (1).pdf',\n",
       " 'Final Paper.docx',\n",
       " 'Final Paper.pdf',\n",
       " 'Final thesis.docx',\n",
       " 'generated-1381272884415010143.pdf',\n",
       " 'Haddi MS presentation.pptx',\n",
       " 'Hamza HBL Slip_.jpg',\n",
       " 'Hamza Thesis.pdf',\n",
       " 'hamza.txt.txt',\n",
       " 'Hand roller.png',\n",
       " 'IELTS_SPEAKING_200_SAMPLE_ANSWERS_IELTS.pdf',\n",
       " 'images.jpg',\n",
       " 'laminates.png',\n",
       " 'Master Transcript Front.jpg',\n",
       " 'mold.png',\n",
       " 'MS thesis.pdf',\n",
       " 'New Microsoft PowerPoint Presentation.pptx',\n",
       " 'Nomenclature.docx',\n",
       " 'payment-receipt.pdf',\n",
       " 'PhD_Call_for_Applications_2022_2023_final (1).pdf',\n",
       " 'PhD_Call_for_Applications_2022_2023_final.pdf',\n",
       " 'pycharm-community-2021.3.3.exe',\n",
       " 'R1_Research Proposal-Solar Greenhouse Drying.docx',\n",
       " 'Research work.pdf',\n",
       " 'set-lab-equipment.zip',\n",
       " 'SH_logo_vertical_color.jpg',\n",
       " 'Stipendium Hungaricum-compressed.pdf',\n",
       " 'Stirrer.png',\n",
       " 'thank-you-lettering',\n",
       " 'undertaking.docx',\n",
       " \"Usama's Resume (1).pdf\",\n",
       " 'usama.txt.txt',\n",
       " 'vinyl ester.jpg',\n",
       " 'website_Checklist.pdf',\n",
       " '~$menclature.docx',\n",
       " '~$nal Paper.docx',\n",
       " '~$nal thesis.docx',\n",
       " '—Pngtree—chemical beaker drug illustration_4510470.png',\n",
       " '—Pngtree—chemical rubber dropper and beaker_4567221.png',\n",
       " '—Pngtree—transparent glass beaker clipart_5875407.png']"
      ]
     },
     "execution_count": 20,
     "metadata": {},
     "output_type": "execute_result"
    }
   ],
   "source": [
    "dirs = os.listdir()\n",
    "dirs"
   ]
  },
  {
   "cell_type": "code",
   "execution_count": 21,
   "id": "92390c8a",
   "metadata": {},
   "outputs": [
    {
     "name": "stdout",
     "output_type": "stream",
     "text": [
      "Account Statement - 01-Feb-22 - baagfddajf.pdf\n",
      "Account Statement - 07-Feb-22 - baagfddajf.pdf\n",
      "Account Statement - 15-May-21 - baagfddajf.pdf\n"
     ]
    }
   ],
   "source": [
    "for i in dirs:\n",
    "    if strr in i:\n",
    "        print(i)\n"
   ]
  },
  {
   "cell_type": "code",
   "execution_count": 23,
   "id": "e024485d",
   "metadata": {},
   "outputs": [
    {
     "name": "stdout",
     "output_type": "stream",
     "text": [
      "hamza.txt.txt\n",
      "usama.txt.txt\n"
     ]
    }
   ],
   "source": [
    "ext = '.txt'\n",
    "filenames = []\n",
    "for i in dirs:\n",
    "    if ext in i:\n",
    "        print(i)\n",
    "        filenames.append(i)    "
   ]
  },
  {
   "cell_type": "code",
   "execution_count": 24,
   "id": "d01c9fb3",
   "metadata": {},
   "outputs": [
    {
     "data": {
      "text/plain": [
       "['hamza.txt.txt', 'usama.txt.txt']"
      ]
     },
     "execution_count": 24,
     "metadata": {},
     "output_type": "execute_result"
    }
   ],
   "source": [
    "filenames"
   ]
  },
  {
   "cell_type": "code",
   "execution_count": 59,
   "id": "366f6720",
   "metadata": {},
   "outputs": [],
   "source": [
    "files_list = []\n",
    "for i in filenames:\n",
    "    f = open(i, 'r')\n",
    "    temp = f.read()\n",
    "    files_list.append(temp)"
   ]
  },
  {
   "cell_type": "code",
   "execution_count": 60,
   "id": "511085c6",
   "metadata": {},
   "outputs": [
    {
     "data": {
      "text/plain": [
       "'mty name uis hamasdf\\ncomdays jdhjfah'"
      ]
     },
     "execution_count": 60,
     "metadata": {},
     "output_type": "execute_result"
    }
   ],
   "source": [
    "files_list = '\\n'.join(files_list)\n",
    "files_list"
   ]
  },
  {
   "cell_type": "code",
   "execution_count": 62,
   "id": "1fd3babc",
   "metadata": {},
   "outputs": [
    {
     "data": {
      "text/plain": [
       "36"
      ]
     },
     "execution_count": 62,
     "metadata": {},
     "output_type": "execute_result"
    }
   ],
   "source": [
    "#f = open('merged.txt', 'w')\n",
    "#for i in files_list:\n",
    "f = open('merged_nau.txt', 'a')\n",
    "f.write(files_list)"
   ]
  },
  {
   "cell_type": "code",
   "execution_count": null,
   "id": "a0db2714",
   "metadata": {},
   "outputs": [],
   "source": []
  }
 ],
 "metadata": {
  "kernelspec": {
   "display_name": "Python 3 (ipykernel)",
   "language": "python",
   "name": "python3"
  },
  "language_info": {
   "codemirror_mode": {
    "name": "ipython",
    "version": 3
   },
   "file_extension": ".py",
   "mimetype": "text/x-python",
   "name": "python",
   "nbconvert_exporter": "python",
   "pygments_lexer": "ipython3",
   "version": "3.9.7"
  }
 },
 "nbformat": 4,
 "nbformat_minor": 5
}
