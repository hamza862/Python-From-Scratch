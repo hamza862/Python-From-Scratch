{
 "cells": [
  {
   "cell_type": "code",
   "execution_count": 3,
   "id": "33cae1ec",
   "metadata": {},
   "outputs": [],
   "source": [
    "f= open(\"test.txt\", \"w\")"
   ]
  },
  {
   "cell_type": "code",
   "execution_count": 4,
   "id": "b1b1285d",
   "metadata": {},
   "outputs": [
    {
     "data": {
      "text/plain": [
       "50"
      ]
     },
     "execution_count": 4,
     "metadata": {},
     "output_type": "execute_result"
    }
   ],
   "source": [
    "f.write(\"sdbnsdbnbfns sd fnsbdfns sdfnbsjd sjdfbcjas afjas \")"
   ]
  },
  {
   "cell_type": "code",
   "execution_count": 5,
   "id": "1d0f6c59",
   "metadata": {},
   "outputs": [],
   "source": [
    "f.close()"
   ]
  },
  {
   "cell_type": "code",
   "execution_count": 7,
   "id": "0b17219b",
   "metadata": {},
   "outputs": [],
   "source": [
    "f= open(\"test.txt\")"
   ]
  },
  {
   "cell_type": "code",
   "execution_count": 9,
   "id": "eea0d76e",
   "metadata": {},
   "outputs": [
    {
     "data": {
      "text/plain": [
       "'\\ns avda\\nasdbjasd\\nasndjans\\nasdnkasndk\\nakndknaksdn\\nanskdnkasn\\nasndknas\\naksdmkasn\\nnmkasndk\\nklmaksdnksn\\nan dnaskdn\\nnaksdnkasdm\\nasd\\n'"
      ]
     },
     "execution_count": 9,
     "metadata": {},
     "output_type": "execute_result"
    }
   ],
   "source": [
    "f.read()"
   ]
  },
  {
   "cell_type": "code",
   "execution_count": 10,
   "id": "d0056030",
   "metadata": {},
   "outputs": [
    {
     "data": {
      "text/plain": [
       "''"
      ]
     },
     "execution_count": 10,
     "metadata": {},
     "output_type": "execute_result"
    }
   ],
   "source": [
    "f.read()"
   ]
  },
  {
   "cell_type": "code",
   "execution_count": 12,
   "id": "47217a7a",
   "metadata": {},
   "outputs": [
    {
     "data": {
      "text/plain": [
       "10"
      ]
     },
     "execution_count": 12,
     "metadata": {},
     "output_type": "execute_result"
    }
   ],
   "source": [
    "f.seek(10)"
   ]
  },
  {
   "cell_type": "code",
   "execution_count": 13,
   "id": "e1c20189",
   "metadata": {},
   "outputs": [
    {
     "data": {
      "text/plain": [
       "'ns sd fnsbdfns sdfnbsjd sjdfbcjas afjas \\ns avda\\nasdbjasd\\nasndjans\\nasdnkasndk\\nakndknaksdn\\nanskdnkasn\\nasndknas\\naksdmkasn\\nnmkasndk\\nklmaksdnksn\\nan dnaskdn\\nnaksdnkasdm\\nasd\\n'"
      ]
     },
     "execution_count": 13,
     "metadata": {},
     "output_type": "execute_result"
    }
   ],
   "source": [
    "f.read()"
   ]
  },
  {
   "cell_type": "code",
   "execution_count": 14,
   "id": "0e271be9",
   "metadata": {},
   "outputs": [
    {
     "data": {
      "text/plain": [
       "''"
      ]
     },
     "execution_count": 14,
     "metadata": {},
     "output_type": "execute_result"
    }
   ],
   "source": [
    "f.read()"
   ]
  },
  {
   "cell_type": "code",
   "execution_count": 15,
   "id": "5361af5f",
   "metadata": {},
   "outputs": [
    {
     "data": {
      "text/plain": [
       "0"
      ]
     },
     "execution_count": 15,
     "metadata": {},
     "output_type": "execute_result"
    }
   ],
   "source": [
    "f.seek(0)"
   ]
  },
  {
   "cell_type": "code",
   "execution_count": 16,
   "id": "de036ea7",
   "metadata": {},
   "outputs": [
    {
     "data": {
      "text/plain": [
       "'sdbnsdbnbfns sd fnsbdfns sdfnbsjd sjdfbcjas afjas \\ns avda\\nasdbjasd\\nasndjans\\nasdnkasndk\\nakndknaksdn\\nanskdnkasn\\nasndknas\\naksdmkasn\\nnmkasndk\\nklmaksdnksn\\nan dnaskdn\\nnaksdnkasdm\\nasd\\n'"
      ]
     },
     "execution_count": 16,
     "metadata": {},
     "output_type": "execute_result"
    }
   ],
   "source": [
    "f.read()"
   ]
  },
  {
   "cell_type": "code",
   "execution_count": 17,
   "id": "43fcb189",
   "metadata": {},
   "outputs": [],
   "source": [
    "f=open(\"test.txt\",\"r\")"
   ]
  },
  {
   "cell_type": "code",
   "execution_count": 18,
   "id": "88b92bdf",
   "metadata": {},
   "outputs": [
    {
     "ename": "UnsupportedOperation",
     "evalue": "not writable",
     "output_type": "error",
     "traceback": [
      "\u001b[1;31m---------------------------------------------------------------------------\u001b[0m",
      "\u001b[1;31mUnsupportedOperation\u001b[0m                      Traceback (most recent call last)",
      "\u001b[1;32mC:\\Users\\MUHAMM~1\\AppData\\Local\\Temp/ipykernel_10832/908704243.py\u001b[0m in \u001b[0;36m<module>\u001b[1;34m\u001b[0m\n\u001b[1;32m----> 1\u001b[1;33m \u001b[0mf\u001b[0m\u001b[1;33m.\u001b[0m\u001b[0mwrite\u001b[0m\u001b[1;33m(\u001b[0m\u001b[1;34m\"sds dbsdbsdbdbbds\"\u001b[0m\u001b[1;33m)\u001b[0m\u001b[1;33m\u001b[0m\u001b[1;33m\u001b[0m\u001b[0m\n\u001b[0m",
      "\u001b[1;31mUnsupportedOperation\u001b[0m: not writable"
     ]
    }
   ],
   "source": [
    "f.write(\"sds dbsdbsdbdbbds\")"
   ]
  },
  {
   "cell_type": "code",
   "execution_count": 19,
   "id": "317472a5",
   "metadata": {},
   "outputs": [
    {
     "data": {
      "text/plain": [
       "'sdbnsdbnbfns sd fnsbdfns sdfnbsjd sjdfbcjas afjas \\ns avda\\nasdbjasd\\nasndjans\\nasdnkasndk\\nakndknaksdn\\nanskdnkasn\\nasndknas\\naksdmkasn\\nnmkasndk\\nklmaksdnksn\\nan dnaskdn\\nnaksdnkasdm\\nasd\\n'"
      ]
     },
     "execution_count": 19,
     "metadata": {},
     "output_type": "execute_result"
    }
   ],
   "source": [
    "f.read()"
   ]
  },
  {
   "cell_type": "code",
   "execution_count": 20,
   "id": "1859e119",
   "metadata": {},
   "outputs": [
    {
     "data": {
      "text/plain": [
       "''"
      ]
     },
     "execution_count": 20,
     "metadata": {},
     "output_type": "execute_result"
    }
   ],
   "source": [
    "f.read()"
   ]
  },
  {
   "cell_type": "code",
   "execution_count": 21,
   "id": "0e991af8",
   "metadata": {},
   "outputs": [
    {
     "data": {
      "text/plain": [
       "20"
      ]
     },
     "execution_count": 21,
     "metadata": {},
     "output_type": "execute_result"
    }
   ],
   "source": [
    "f.seek(20)"
   ]
  },
  {
   "cell_type": "code",
   "execution_count": 22,
   "id": "2e761f77",
   "metadata": {},
   "outputs": [
    {
     "data": {
      "text/plain": [
       "'dfns sdfnbsjd sjdfbcjas afjas \\ns avda\\nasdbjasd\\nasndjans\\nasdnkasndk\\nakndknaksdn\\nanskdnkasn\\nasndknas\\naksdmkasn\\nnmkasndk\\nklmaksdnksn\\nan dnaskdn\\nnaksdnkasdm\\nasd\\n'"
      ]
     },
     "execution_count": 22,
     "metadata": {},
     "output_type": "execute_result"
    }
   ],
   "source": [
    "f.read()"
   ]
  },
  {
   "cell_type": "code",
   "execution_count": 25,
   "id": "48984b65",
   "metadata": {},
   "outputs": [
    {
     "data": {
      "text/plain": [
       "0"
      ]
     },
     "execution_count": 25,
     "metadata": {},
     "output_type": "execute_result"
    }
   ],
   "source": [
    "f.seek(0)"
   ]
  },
  {
   "cell_type": "code",
   "execution_count": 26,
   "id": "4cca0db0",
   "metadata": {},
   "outputs": [
    {
     "data": {
      "text/plain": [
       "'sdbnsdbnbfns sd fnsbdfns'"
      ]
     },
     "execution_count": 26,
     "metadata": {},
     "output_type": "execute_result"
    }
   ],
   "source": [
    "f.read(24)"
   ]
  },
  {
   "cell_type": "code",
   "execution_count": 30,
   "id": "6d63788e",
   "metadata": {},
   "outputs": [],
   "source": [
    "f.close()"
   ]
  },
  {
   "cell_type": "code",
   "execution_count": 31,
   "id": "253a21a2",
   "metadata": {},
   "outputs": [],
   "source": [
    "f=open(\"test.txt\",\"w\")"
   ]
  },
  {
   "cell_type": "code",
   "execution_count": 32,
   "id": "64799500",
   "metadata": {},
   "outputs": [
    {
     "data": {
      "text/plain": [
       "37"
      ]
     },
     "execution_count": 32,
     "metadata": {},
     "output_type": "execute_result"
    }
   ],
   "source": [
    "f.write(\"sdhsvd sdhsbdhvsd sdbsbdhd sdhsdb sdb\")"
   ]
  },
  {
   "cell_type": "code",
   "execution_count": 33,
   "id": "3ef0f1b9",
   "metadata": {},
   "outputs": [],
   "source": [
    "f.close()"
   ]
  },
  {
   "cell_type": "code",
   "execution_count": 34,
   "id": "5755f653",
   "metadata": {},
   "outputs": [],
   "source": [
    "f=open(\"test.txt\",\"a\")"
   ]
  },
  {
   "cell_type": "code",
   "execution_count": 35,
   "id": "4ccd114b",
   "metadata": {},
   "outputs": [
    {
     "data": {
      "text/plain": [
       "37"
      ]
     },
     "execution_count": 35,
     "metadata": {},
     "output_type": "execute_result"
    }
   ],
   "source": [
    "f.write(\"asdasbd asdbhsabdbasdbash asbdhas sba\")"
   ]
  },
  {
   "cell_type": "code",
   "execution_count": 36,
   "id": "da0f1965",
   "metadata": {},
   "outputs": [],
   "source": [
    "f.close()"
   ]
  },
  {
   "cell_type": "code",
   "execution_count": 37,
   "id": "fd333fcd",
   "metadata": {},
   "outputs": [],
   "source": [
    "f=open(\"test1.txt\",\"wb\")"
   ]
  },
  {
   "cell_type": "code",
   "execution_count": 39,
   "id": "69853ac8",
   "metadata": {},
   "outputs": [
    {
     "data": {
      "text/plain": [
       "32"
      ]
     },
     "execution_count": 39,
     "metadata": {},
     "output_type": "execute_result"
    }
   ],
   "source": [
    "f.write(b\"sdjasdbasjdb adsbdjasbdb asdbasj\")"
   ]
  },
  {
   "cell_type": "code",
   "execution_count": 40,
   "id": "84826b89",
   "metadata": {},
   "outputs": [],
   "source": [
    "f.close()"
   ]
  },
  {
   "cell_type": "code",
   "execution_count": 41,
   "id": "378fd984",
   "metadata": {},
   "outputs": [],
   "source": [
    "f=open(\"test1.txt\",\"rb\")"
   ]
  },
  {
   "cell_type": "code",
   "execution_count": 42,
   "id": "459f6344",
   "metadata": {},
   "outputs": [
    {
     "data": {
      "text/plain": [
       "b'sdjasdbasjdb adsbdjasbdb asdbasj'"
      ]
     },
     "execution_count": 42,
     "metadata": {},
     "output_type": "execute_result"
    }
   ],
   "source": [
    "f.read()"
   ]
  },
  {
   "cell_type": "code",
   "execution_count": 43,
   "id": "72043a3f",
   "metadata": {},
   "outputs": [
    {
     "data": {
      "text/plain": [
       "2"
      ]
     },
     "execution_count": 43,
     "metadata": {},
     "output_type": "execute_result"
    }
   ],
   "source": [
    "f.seek(2)"
   ]
  },
  {
   "cell_type": "code",
   "execution_count": 44,
   "id": "74f53e5c",
   "metadata": {},
   "outputs": [
    {
     "data": {
      "text/plain": [
       "b'j'"
      ]
     },
     "execution_count": 44,
     "metadata": {},
     "output_type": "execute_result"
    }
   ],
   "source": [
    "f.read(1)"
   ]
  },
  {
   "cell_type": "code",
   "execution_count": 45,
   "id": "1925cc9c",
   "metadata": {},
   "outputs": [],
   "source": [
    "f.close()"
   ]
  },
  {
   "cell_type": "code",
   "execution_count": 46,
   "id": "ed6d81ed",
   "metadata": {},
   "outputs": [],
   "source": [
    "f=open(\"test2.txt\",\"w\")"
   ]
  },
  {
   "cell_type": "code",
   "execution_count": 47,
   "id": "9bbee186",
   "metadata": {},
   "outputs": [
    {
     "data": {
      "text/plain": [
       "41"
      ]
     },
     "execution_count": 47,
     "metadata": {},
     "output_type": "execute_result"
    }
   ],
   "source": [
    "f.write(\"sdbfhbsdhfb safbhasbdf asdasb sad hasbskd\")"
   ]
  },
  {
   "cell_type": "code",
   "execution_count": 48,
   "id": "0918a351",
   "metadata": {},
   "outputs": [],
   "source": [
    "f.close()"
   ]
  },
  {
   "cell_type": "code",
   "execution_count": 50,
   "id": "9b0635c4",
   "metadata": {},
   "outputs": [],
   "source": [
    "f=open(\"test2.txt\",\"r\")"
   ]
  },
  {
   "cell_type": "code",
   "execution_count": 52,
   "id": "ad0615b3",
   "metadata": {},
   "outputs": [
    {
     "data": {
      "text/plain": [
       "'\\njsnds\\nsdms d\\naksdkn\\nsamdks\\nsdks\\ndmksmdkms\\nsdmsmdk\\ndmksmd\\nsdkskdk\\nmdskdsk dks\\nsdmksmdk\\nmsdksmkd\\nlkmdkmskd\\nd \\n'"
      ]
     },
     "execution_count": 52,
     "metadata": {},
     "output_type": "execute_result"
    }
   ],
   "source": [
    "f.read()"
   ]
  },
  {
   "cell_type": "code",
   "execution_count": 53,
   "id": "7e8c78ae",
   "metadata": {},
   "outputs": [
    {
     "data": {
      "text/plain": [
       "10"
      ]
     },
     "execution_count": 53,
     "metadata": {},
     "output_type": "execute_result"
    }
   ],
   "source": [
    "f.seek(10)"
   ]
  },
  {
   "cell_type": "code",
   "execution_count": 54,
   "id": "d5503a97",
   "metadata": {},
   "outputs": [
    {
     "data": {
      "text/plain": [
       "'b saf'"
      ]
     },
     "execution_count": 54,
     "metadata": {},
     "output_type": "execute_result"
    }
   ],
   "source": [
    "f.read(5)"
   ]
  },
  {
   "cell_type": "code",
   "execution_count": 55,
   "id": "9fdb6129",
   "metadata": {},
   "outputs": [
    {
     "data": {
      "text/plain": [
       "0"
      ]
     },
     "execution_count": 55,
     "metadata": {},
     "output_type": "execute_result"
    }
   ],
   "source": [
    "f.seek(0)"
   ]
  },
  {
   "cell_type": "code",
   "execution_count": 56,
   "id": "af3fd0e1",
   "metadata": {},
   "outputs": [
    {
     "data": {
      "text/plain": [
       "'sdbfhbsdhfb safbhasbdf asdasb sad hasbskd\\n'"
      ]
     },
     "execution_count": 56,
     "metadata": {},
     "output_type": "execute_result"
    }
   ],
   "source": [
    "f.readline()"
   ]
  },
  {
   "cell_type": "code",
   "execution_count": 57,
   "id": "646e955f",
   "metadata": {},
   "outputs": [
    {
     "data": {
      "text/plain": [
       "'jsnds\\n'"
      ]
     },
     "execution_count": 57,
     "metadata": {},
     "output_type": "execute_result"
    }
   ],
   "source": [
    "f.readline()"
   ]
  },
  {
   "cell_type": "code",
   "execution_count": 58,
   "id": "b35161e1",
   "metadata": {},
   "outputs": [
    {
     "data": {
      "text/plain": [
       "'sdms d\\n'"
      ]
     },
     "execution_count": 58,
     "metadata": {},
     "output_type": "execute_result"
    }
   ],
   "source": [
    "f.readline(9)"
   ]
  },
  {
   "cell_type": "code",
   "execution_count": 59,
   "id": "2016dd86",
   "metadata": {},
   "outputs": [],
   "source": [
    "f.close()"
   ]
  },
  {
   "cell_type": "code",
   "execution_count": 64,
   "id": "2057f22a",
   "metadata": {},
   "outputs": [],
   "source": [
    "f=open(\"test2.txt\",\"r\")"
   ]
  },
  {
   "cell_type": "code",
   "execution_count": 65,
   "id": "040667a6",
   "metadata": {},
   "outputs": [
    {
     "name": "stdout",
     "output_type": "stream",
     "text": [
      "sdbfhbsdhfb safbhasbdf asdasb sad hasbskd\n",
      "jsnds\n",
      "sdms d\n",
      "aksdkn\n",
      "samdks\n",
      "sdks\n",
      "dmksmdkms\n",
      "sdmsmdk\n",
      "dmksmd\n",
      "sdkskdk\n",
      "mdskdsk dks\n",
      "sdmksmdk\n",
      "msdksmkd\n",
      "lkmdkmskd\n",
      "d \n"
     ]
    }
   ],
   "source": [
    "for i in f:\n",
    "    print(i, end=\"\")"
   ]
  },
  {
   "cell_type": "code",
   "execution_count": 66,
   "id": "8d4e5463",
   "metadata": {},
   "outputs": [],
   "source": [
    "f.close()"
   ]
  },
  {
   "cell_type": "code",
   "execution_count": 76,
   "id": "2c31e823",
   "metadata": {},
   "outputs": [],
   "source": [
    "f=open(\"test2.txt\",\"r+\")"
   ]
  },
  {
   "cell_type": "code",
   "execution_count": 77,
   "id": "33bfcb9e",
   "metadata": {},
   "outputs": [
    {
     "data": {
      "text/plain": [
       "['sdsa d asd sbshdbashbdh n sddhasd sna dh asdnds\\n',\n",
       " 'sdms d\\n',\n",
       " 'aksdkn\\n',\n",
       " 'samdks\\n',\n",
       " 'sdks\\n',\n",
       " 'dmksmdkms\\n',\n",
       " 'sdmsmdk\\n',\n",
       " 'dmksmd\\n',\n",
       " 'sdkskdk\\n',\n",
       " 'mdskdsk dks\\n',\n",
       " 'sdmksmdk\\n',\n",
       " 'msdksmkd\\n',\n",
       " 'lkmdkmskd\\n',\n",
       " 'd \\n']"
      ]
     },
     "execution_count": 77,
     "metadata": {},
     "output_type": "execute_result"
    }
   ],
   "source": [
    "list(f)"
   ]
  },
  {
   "cell_type": "code",
   "execution_count": 78,
   "id": "a8c03e0a",
   "metadata": {},
   "outputs": [
    {
     "data": {
      "text/plain": [
       "44"
      ]
     },
     "execution_count": 78,
     "metadata": {},
     "output_type": "execute_result"
    }
   ],
   "source": [
    "f.write(\"sdsa d asd sbshdbashbdh n sddhasd sna dh asd\")"
   ]
  },
  {
   "cell_type": "code",
   "execution_count": 79,
   "id": "943cc5c9",
   "metadata": {},
   "outputs": [],
   "source": [
    "f.close()"
   ]
  },
  {
   "cell_type": "code",
   "execution_count": 83,
   "id": "8f71cf21",
   "metadata": {},
   "outputs": [],
   "source": [
    "f=open(\"test2.txt\",\"r+\")"
   ]
  },
  {
   "cell_type": "code",
   "execution_count": 84,
   "id": "c0ace02e",
   "metadata": {},
   "outputs": [],
   "source": [
    "f.writelines(\"asasbah asbhabs asahs as\")"
   ]
  },
  {
   "cell_type": "code",
   "execution_count": 85,
   "id": "3b4debf1",
   "metadata": {},
   "outputs": [],
   "source": [
    "f.close()"
   ]
  },
  {
   "cell_type": "code",
   "execution_count": 87,
   "id": "5cc4442d",
   "metadata": {},
   "outputs": [],
   "source": [
    "f=open(\"test2.txt\",\"r+\")"
   ]
  },
  {
   "cell_type": "code",
   "execution_count": 88,
   "id": "37dc5673",
   "metadata": {},
   "outputs": [
    {
     "data": {
      "text/plain": [
       "345"
      ]
     },
     "execution_count": 88,
     "metadata": {},
     "output_type": "execute_result"
    }
   ],
   "source": [
    "f.seek(345)"
   ]
  },
  {
   "cell_type": "code",
   "execution_count": 89,
   "id": "e3a32f17",
   "metadata": {},
   "outputs": [],
   "source": [
    "f.writelines(\"asasasasa asdasa asawqw ewewe ds\")"
   ]
  },
  {
   "cell_type": "code",
   "execution_count": 90,
   "id": "5c24d959",
   "metadata": {},
   "outputs": [],
   "source": [
    "f.close()"
   ]
  },
  {
   "cell_type": "code",
   "execution_count": 91,
   "id": "1a743d20",
   "metadata": {},
   "outputs": [
    {
     "name": "stdout",
     "output_type": "stream",
     "text": [
      "Writing test5.txt\n"
     ]
    }
   ],
   "source": [
    "%%writefile test5.txt\n",
    "my name is sudh"
   ]
  },
  {
   "cell_type": "code",
   "execution_count": 92,
   "id": "89f261ec",
   "metadata": {},
   "outputs": [
    {
     "data": {
      "text/plain": [
       "'C:\\\\Users\\\\Muhammad Hamza Abid\\\\Untitled Folder'"
      ]
     },
     "execution_count": 92,
     "metadata": {},
     "output_type": "execute_result"
    }
   ],
   "source": [
    "pwd()"
   ]
  },
  {
   "cell_type": "code",
   "execution_count": 93,
   "id": "09671241",
   "metadata": {},
   "outputs": [],
   "source": [
    "import os"
   ]
  },
  {
   "cell_type": "code",
   "execution_count": 94,
   "id": "465b7872",
   "metadata": {},
   "outputs": [
    {
     "data": {
      "text/plain": [
       "'C:\\\\Users\\\\Muhammad Hamza Abid\\\\Untitled Folder'"
      ]
     },
     "execution_count": 94,
     "metadata": {},
     "output_type": "execute_result"
    }
   ],
   "source": [
    "pwd()"
   ]
  },
  {
   "cell_type": "code",
   "execution_count": 95,
   "id": "be168960",
   "metadata": {},
   "outputs": [
    {
     "data": {
      "text/plain": [
       "'C:\\\\Users\\\\Muhammad Hamza Abid\\\\Untitled Folder'"
      ]
     },
     "execution_count": 95,
     "metadata": {},
     "output_type": "execute_result"
    }
   ],
   "source": [
    "os.getcwd()"
   ]
  },
  {
   "cell_type": "code",
   "execution_count": 96,
   "id": "30484e10",
   "metadata": {},
   "outputs": [
    {
     "data": {
      "text/plain": [
       "['.ipynb_checkpoints',\n",
       " 'test.txt',\n",
       " 'test1.txt',\n",
       " 'test2.txt',\n",
       " 'test5.txt',\n",
       " 'Untitled.ipynb']"
      ]
     },
     "execution_count": 96,
     "metadata": {},
     "output_type": "execute_result"
    }
   ],
   "source": [
    "os.listdir()"
   ]
  },
  {
   "cell_type": "code",
   "execution_count": 98,
   "id": "88720c6c",
   "metadata": {},
   "outputs": [
    {
     "data": {
      "text/plain": [
       "['All Users',\n",
       " 'Default',\n",
       " 'Default User',\n",
       " 'desktop.ini',\n",
       " 'Muhammad Hamza Abid',\n",
       " 'Public']"
      ]
     },
     "execution_count": 98,
     "metadata": {},
     "output_type": "execute_result"
    }
   ],
   "source": [
    "os.listdir(\"C:\\\\Users\")"
   ]
  },
  {
   "cell_type": "code",
   "execution_count": 99,
   "id": "8a870dcc",
   "metadata": {},
   "outputs": [],
   "source": [
    "os.chdir(\"C:\\\\Users\\\\Muhammad Hamza Abid\")"
   ]
  },
  {
   "cell_type": "code",
   "execution_count": 100,
   "id": "97f18e6e",
   "metadata": {},
   "outputs": [
    {
     "data": {
      "text/plain": [
       "'C:\\\\Users\\\\Muhammad Hamza Abid'"
      ]
     },
     "execution_count": 100,
     "metadata": {},
     "output_type": "execute_result"
    }
   ],
   "source": [
    "pwd()"
   ]
  },
  {
   "cell_type": "code",
   "execution_count": 101,
   "id": "5b642921",
   "metadata": {},
   "outputs": [],
   "source": [
    "os.chdir(\"C:\\\\Users\\\\Muhammad Hamza Abid\\\\Untitled Folder\")"
   ]
  },
  {
   "cell_type": "code",
   "execution_count": 102,
   "id": "9729d3e5",
   "metadata": {},
   "outputs": [
    {
     "data": {
      "text/plain": [
       "'C:\\\\Users\\\\Muhammad Hamza Abid\\\\Untitled Folder'"
      ]
     },
     "execution_count": 102,
     "metadata": {},
     "output_type": "execute_result"
    }
   ],
   "source": [
    "pwd()"
   ]
  },
  {
   "cell_type": "code",
   "execution_count": 103,
   "id": "303b4fd3",
   "metadata": {},
   "outputs": [],
   "source": [
    "os.mkdir(\"hamza\")"
   ]
  },
  {
   "cell_type": "code",
   "execution_count": 107,
   "id": "1ae74d5d",
   "metadata": {},
   "outputs": [
    {
     "name": "stdout",
     "output_type": "stream",
     "text": [
      "this file is available in this dir\n",
      "sdjasdbasjdb adsbdjasbdb asdbasj\n"
     ]
    }
   ],
   "source": [
    "if \"test1.txt\" in os.listdir():\n",
    "    print(\"this file is available in this dir\")\n",
    "    f=open(\"test1.txt\",\"r+\")\n",
    "    for i in f:\n",
    "        print(i)\n",
    "else:\n",
    "    print(\"this file is not available\")"
   ]
  },
  {
   "cell_type": "code",
   "execution_count": 110,
   "id": "b8c0ffef",
   "metadata": {},
   "outputs": [],
   "source": [
    "if not os.path.isdir(\"sudh\"):\n",
    "    os.mkdir(\"sudh\")"
   ]
  },
  {
   "cell_type": "code",
   "execution_count": 111,
   "id": "f9d5971b",
   "metadata": {},
   "outputs": [
    {
     "ename": "PermissionError",
     "evalue": "[WinError 32] The process cannot access the file because it is being used by another process: 'test1.txt' -> 'xyz'",
     "output_type": "error",
     "traceback": [
      "\u001b[1;31m---------------------------------------------------------------------------\u001b[0m",
      "\u001b[1;31mPermissionError\u001b[0m                           Traceback (most recent call last)",
      "\u001b[1;32mC:\\Users\\MUHAMM~1\\AppData\\Local\\Temp/ipykernel_10832/3396447661.py\u001b[0m in \u001b[0;36m<module>\u001b[1;34m\u001b[0m\n\u001b[1;32m----> 1\u001b[1;33m \u001b[0mos\u001b[0m\u001b[1;33m.\u001b[0m\u001b[0mrename\u001b[0m\u001b[1;33m(\u001b[0m\u001b[1;34m\"test1.txt\"\u001b[0m\u001b[1;33m,\u001b[0m\u001b[1;34m\"xyz\"\u001b[0m\u001b[1;33m)\u001b[0m\u001b[1;33m\u001b[0m\u001b[1;33m\u001b[0m\u001b[0m\n\u001b[0m",
      "\u001b[1;31mPermissionError\u001b[0m: [WinError 32] The process cannot access the file because it is being used by another process: 'test1.txt' -> 'xyz'"
     ]
    }
   ],
   "source": [
    "os.rename(\"test1.txt\",\"xyz\")"
   ]
  },
  {
   "cell_type": "code",
   "execution_count": 113,
   "id": "cef897f3",
   "metadata": {},
   "outputs": [],
   "source": [
    "os.rmdir(\"\")"
   ]
  },
  {
   "cell_type": "code",
   "execution_count": 123,
   "id": "31221b61",
   "metadata": {},
   "outputs": [
    {
     "name": "stdout",
     "output_type": "stream",
     "text": [
      "2\n",
      "1 2\n",
      "-3550055125485641917\n"
     ]
    }
   ],
   "source": [
    "n = int(input())\n",
    "integer_list = map(int, input().split(\" \"))\n",
    "t=tuple(integer_list)\n",
    "print(hash(t))"
   ]
  },
  {
   "cell_type": "code",
   "execution_count": 124,
   "id": "326b4c85",
   "metadata": {},
   "outputs": [
    {
     "data": {
      "text/plain": [
       "'C:\\\\Users\\\\Muhammad Hamza Abid\\\\Untitled Folder'"
      ]
     },
     "execution_count": 124,
     "metadata": {},
     "output_type": "execute_result"
    }
   ],
   "source": [
    "pwd()"
   ]
  },
  {
   "cell_type": "code",
   "execution_count": 125,
   "id": "797e5508",
   "metadata": {},
   "outputs": [],
   "source": [
    "os.mkdir(\"hamza\")"
   ]
  },
  {
   "cell_type": "code",
   "execution_count": 126,
   "id": "3b664c87",
   "metadata": {},
   "outputs": [],
   "source": [
    "n=10\n",
    "for i in range(n):\n",
    "    f=open(\"test(i).txt\",\"w\")\n",
    "    f.write(\"avsavs asbhasbhasv ansbhabs asbhavsh asbhabsh asbhabs\")\n",
    "    f.close"
   ]
  },
  {
   "cell_type": "code",
   "execution_count": null,
   "id": "11eae85d",
   "metadata": {},
   "outputs": [],
   "source": []
  }
 ],
 "metadata": {
  "kernelspec": {
   "display_name": "Python 3 (ipykernel)",
   "language": "python",
   "name": "python3"
  },
  "language_info": {
   "codemirror_mode": {
    "name": "ipython",
    "version": 3
   },
   "file_extension": ".py",
   "mimetype": "text/x-python",
   "name": "python",
   "nbconvert_exporter": "python",
   "pygments_lexer": "ipython3",
   "version": "3.9.7"
  }
 },
 "nbformat": 4,
 "nbformat_minor": 5
}
