{
 "cells": [
  {
   "cell_type": "code",
   "execution_count": 1,
   "id": "aafb85d5",
   "metadata": {},
   "outputs": [
    {
     "data": {
      "text/plain": [
       "30"
      ]
     },
     "execution_count": 1,
     "metadata": {},
     "output_type": "execute_result"
    }
   ],
   "source": [
    "a=10\n",
    "b=20\n",
    "a+b"
   ]
  },
  {
   "cell_type": "code",
   "execution_count": 13,
   "id": "db002960",
   "metadata": {},
   "outputs": [],
   "source": [
    "def test(x,y):\n",
    "    print(x+y)"
   ]
  },
  {
   "cell_type": "code",
   "execution_count": 17,
   "id": "ed03eddd",
   "metadata": {},
   "outputs": [
    {
     "name": "stdout",
     "output_type": "stream",
     "text": [
      "47\n"
     ]
    }
   ],
   "source": [
    "b=test(23,24)"
   ]
  },
  {
   "cell_type": "code",
   "execution_count": 19,
   "id": "30d3ef75",
   "metadata": {},
   "outputs": [
    {
     "data": {
      "text/plain": [
       "NoneType"
      ]
     },
     "execution_count": 19,
     "metadata": {},
     "output_type": "execute_result"
    }
   ],
   "source": [
    "type(b)"
   ]
  },
  {
   "cell_type": "code",
   "execution_count": 4,
   "id": "2c574548",
   "metadata": {},
   "outputs": [
    {
     "name": "stdout",
     "output_type": "stream",
     "text": [
      "3\n"
     ]
    }
   ],
   "source": [
    "test(1,2)"
   ]
  },
  {
   "cell_type": "code",
   "execution_count": 5,
   "id": "ccf88cd6",
   "metadata": {},
   "outputs": [
    {
     "name": "stdout",
     "output_type": "stream",
     "text": [
      "98\n"
     ]
    }
   ],
   "source": [
    "test(33,65)"
   ]
  },
  {
   "cell_type": "code",
   "execution_count": 10,
   "id": "27b8c2a3",
   "metadata": {},
   "outputs": [],
   "source": [
    "def test1(b,m):\n",
    "    return b*m"
   ]
  },
  {
   "cell_type": "code",
   "execution_count": 12,
   "id": "b267f608",
   "metadata": {},
   "outputs": [
    {
     "data": {
      "text/plain": [
       "47"
      ]
     },
     "execution_count": 12,
     "metadata": {},
     "output_type": "execute_result"
    }
   ],
   "source": [
    "test1(5,8)+7"
   ]
  },
  {
   "cell_type": "code",
   "execution_count": 20,
   "id": "a70fa7b8",
   "metadata": {},
   "outputs": [],
   "source": [
    "def test2(t,n,m):\n",
    "    return t+n"
   ]
  },
  {
   "cell_type": "code",
   "execution_count": 22,
   "id": "b87872f0",
   "metadata": {},
   "outputs": [
    {
     "data": {
      "text/plain": [
       "22"
      ]
     },
     "execution_count": 22,
     "metadata": {},
     "output_type": "execute_result"
    }
   ],
   "source": [
    "test2(3,19,0)"
   ]
  },
  {
   "cell_type": "code",
   "execution_count": 23,
   "id": "0f21fb2f",
   "metadata": {},
   "outputs": [],
   "source": [
    "def test3(n,m):\n",
    "    return n*10, m*40, n+m"
   ]
  },
  {
   "cell_type": "code",
   "execution_count": 24,
   "id": "c7923493",
   "metadata": {},
   "outputs": [
    {
     "data": {
      "text/plain": [
       "(30, 280, 10)"
      ]
     },
     "execution_count": 24,
     "metadata": {},
     "output_type": "execute_result"
    }
   ],
   "source": [
    "test3(3,7)"
   ]
  },
  {
   "cell_type": "code",
   "execution_count": 25,
   "id": "60934e8c",
   "metadata": {},
   "outputs": [],
   "source": [
    "c,x,v=test3(2,7)"
   ]
  },
  {
   "cell_type": "code",
   "execution_count": 26,
   "id": "50fc62c4",
   "metadata": {},
   "outputs": [
    {
     "data": {
      "text/plain": [
       "20"
      ]
     },
     "execution_count": 26,
     "metadata": {},
     "output_type": "execute_result"
    }
   ],
   "source": [
    "c"
   ]
  },
  {
   "cell_type": "code",
   "execution_count": 27,
   "id": "458c15dc",
   "metadata": {},
   "outputs": [
    {
     "data": {
      "text/plain": [
       "280"
      ]
     },
     "execution_count": 27,
     "metadata": {},
     "output_type": "execute_result"
    }
   ],
   "source": [
    "x"
   ]
  },
  {
   "cell_type": "code",
   "execution_count": 28,
   "id": "d22fdd65",
   "metadata": {},
   "outputs": [
    {
     "data": {
      "text/plain": [
       "9"
      ]
     },
     "execution_count": 28,
     "metadata": {},
     "output_type": "execute_result"
    }
   ],
   "source": [
    "v"
   ]
  },
  {
   "cell_type": "code",
   "execution_count": 29,
   "id": "fcda381b",
   "metadata": {},
   "outputs": [],
   "source": [
    "c, x, _=test3(2,7)"
   ]
  },
  {
   "cell_type": "code",
   "execution_count": 30,
   "id": "3c887fc4",
   "metadata": {},
   "outputs": [
    {
     "data": {
      "text/plain": [
       "20"
      ]
     },
     "execution_count": 30,
     "metadata": {},
     "output_type": "execute_result"
    }
   ],
   "source": [
    "c"
   ]
  },
  {
   "cell_type": "code",
   "execution_count": 31,
   "id": "4b155146",
   "metadata": {},
   "outputs": [
    {
     "data": {
      "text/plain": [
       "280"
      ]
     },
     "execution_count": 31,
     "metadata": {},
     "output_type": "execute_result"
    }
   ],
   "source": [
    "x"
   ]
  },
  {
   "cell_type": "code",
   "execution_count": 33,
   "id": "bf4ff720",
   "metadata": {},
   "outputs": [
    {
     "data": {
      "text/plain": [
       "280"
      ]
     },
     "execution_count": 33,
     "metadata": {},
     "output_type": "execute_result"
    }
   ],
   "source": [
    "_"
   ]
  },
  {
   "cell_type": "code",
   "execution_count": 34,
   "id": "5b48cb81",
   "metadata": {},
   "outputs": [],
   "source": [
    "c, _, v=test3(2,7)"
   ]
  },
  {
   "cell_type": "code",
   "execution_count": 35,
   "id": "b2657a36",
   "metadata": {},
   "outputs": [
    {
     "data": {
      "text/plain": [
       "20"
      ]
     },
     "execution_count": 35,
     "metadata": {},
     "output_type": "execute_result"
    }
   ],
   "source": [
    "c"
   ]
  },
  {
   "cell_type": "code",
   "execution_count": 36,
   "id": "8b607c2e",
   "metadata": {},
   "outputs": [
    {
     "data": {
      "text/plain": [
       "280"
      ]
     },
     "execution_count": 36,
     "metadata": {},
     "output_type": "execute_result"
    }
   ],
   "source": [
    "_"
   ]
  },
  {
   "cell_type": "code",
   "execution_count": 37,
   "id": "444a6578",
   "metadata": {},
   "outputs": [
    {
     "data": {
      "text/plain": [
       "9"
      ]
     },
     "execution_count": 37,
     "metadata": {},
     "output_type": "execute_result"
    }
   ],
   "source": [
    "v"
   ]
  },
  {
   "cell_type": "code",
   "execution_count": 38,
   "id": "89995e2d",
   "metadata": {},
   "outputs": [],
   "source": [
    "def test8(n):\n",
    "    return n*2"
   ]
  },
  {
   "cell_type": "code",
   "execution_count": 39,
   "id": "f69dd6d5",
   "metadata": {},
   "outputs": [
    {
     "data": {
      "text/plain": [
       "[3, 4, 32, 56, 44, 3, 4, 32, 56, 44]"
      ]
     },
     "execution_count": 39,
     "metadata": {},
     "output_type": "execute_result"
    }
   ],
   "source": [
    "test8([3,4,32,56,44])"
   ]
  },
  {
   "cell_type": "code",
   "execution_count": 41,
   "id": "497d09e0",
   "metadata": {},
   "outputs": [
    {
     "data": {
      "text/plain": [
       "134"
      ]
     },
     "execution_count": 41,
     "metadata": {},
     "output_type": "execute_result"
    }
   ],
   "source": [
    "test8(67)"
   ]
  },
  {
   "cell_type": "code",
   "execution_count": 44,
   "id": "c2597696",
   "metadata": {},
   "outputs": [],
   "source": [
    "def test9(n):\n",
    "    return n, n*2"
   ]
  },
  {
   "cell_type": "code",
   "execution_count": 47,
   "id": "fe8f9f7d",
   "metadata": {},
   "outputs": [
    {
     "data": {
      "text/plain": [
       "([34, 56, 3, 2, 9], [34, 56, 3, 2, 9, 34, 56, 3, 2, 9])"
      ]
     },
     "execution_count": 47,
     "metadata": {},
     "output_type": "execute_result"
    }
   ],
   "source": [
    "b=test9([34,56,3,2,9])\n",
    "b"
   ]
  },
  {
   "cell_type": "code",
   "execution_count": 50,
   "id": "1de8b320",
   "metadata": {},
   "outputs": [
    {
     "data": {
      "text/plain": [
       "2"
      ]
     },
     "execution_count": 50,
     "metadata": {},
     "output_type": "execute_result"
    }
   ],
   "source": [
    "b[0][3]"
   ]
  },
  {
   "cell_type": "code",
   "execution_count": 51,
   "id": "f17c47c2",
   "metadata": {},
   "outputs": [
    {
     "data": {
      "text/plain": [
       "56"
      ]
     },
     "execution_count": 51,
     "metadata": {},
     "output_type": "execute_result"
    }
   ],
   "source": [
    "b[1][6]"
   ]
  },
  {
   "cell_type": "code",
   "execution_count": 52,
   "id": "4919e9e5",
   "metadata": {},
   "outputs": [],
   "source": [
    "def test10(n,m=10):\n",
    "    return n+m"
   ]
  },
  {
   "cell_type": "code",
   "execution_count": 53,
   "id": "74e1bda7",
   "metadata": {},
   "outputs": [
    {
     "data": {
      "text/plain": [
       "70"
      ]
     },
     "execution_count": 53,
     "metadata": {},
     "output_type": "execute_result"
    }
   ],
   "source": [
    "test10(60)"
   ]
  },
  {
   "cell_type": "code",
   "execution_count": 54,
   "id": "5b44d7af",
   "metadata": {},
   "outputs": [
    {
     "data": {
      "text/plain": [
       "130"
      ]
     },
     "execution_count": 54,
     "metadata": {},
     "output_type": "execute_result"
    }
   ],
   "source": [
    "test10(60,70)"
   ]
  },
  {
   "cell_type": "code",
   "execution_count": 55,
   "id": "a213082d",
   "metadata": {},
   "outputs": [],
   "source": [
    "def boolx(x=True,y=False):\n",
    "    return x+y"
   ]
  },
  {
   "cell_type": "code",
   "execution_count": 56,
   "id": "1087fb8c",
   "metadata": {},
   "outputs": [
    {
     "data": {
      "text/plain": [
       "1"
      ]
     },
     "execution_count": 56,
     "metadata": {},
     "output_type": "execute_result"
    }
   ],
   "source": [
    "boolx()"
   ]
  },
  {
   "cell_type": "code",
   "execution_count": 57,
   "id": "660509a5",
   "metadata": {},
   "outputs": [
    {
     "data": {
      "text/plain": [
       "0"
      ]
     },
     "execution_count": 57,
     "metadata": {},
     "output_type": "execute_result"
    }
   ],
   "source": [
    "boolx(False)"
   ]
  },
  {
   "cell_type": "code",
   "execution_count": 59,
   "id": "8016a4b6",
   "metadata": {},
   "outputs": [
    {
     "data": {
      "text/plain": [
       "8"
      ]
     },
     "execution_count": 59,
     "metadata": {},
     "output_type": "execute_result"
    }
   ],
   "source": [
    "boolx(False,8)"
   ]
  },
  {
   "cell_type": "code",
   "execution_count": 60,
   "id": "02ef2532",
   "metadata": {},
   "outputs": [],
   "source": [
    "def travel(bike=True, car=False):\n",
    "    plan_travel=bike or car\n",
    "    return bike,car,plan_travel"
   ]
  },
  {
   "cell_type": "code",
   "execution_count": 61,
   "id": "72179858",
   "metadata": {},
   "outputs": [
    {
     "data": {
      "text/plain": [
       "(True, False, True)"
      ]
     },
     "execution_count": 61,
     "metadata": {},
     "output_type": "execute_result"
    }
   ],
   "source": [
    "travel()"
   ]
  },
  {
   "cell_type": "code",
   "execution_count": 62,
   "id": "77c63fd4",
   "metadata": {},
   "outputs": [
    {
     "data": {
      "text/plain": [
       "(False, False, False)"
      ]
     },
     "execution_count": 62,
     "metadata": {},
     "output_type": "execute_result"
    }
   ],
   "source": [
    "travel(False)"
   ]
  },
  {
   "cell_type": "code",
   "execution_count": 63,
   "id": "039eeafb",
   "metadata": {},
   "outputs": [
    {
     "data": {
      "text/plain": [
       "(True, True, True)"
      ]
     },
     "execution_count": 63,
     "metadata": {},
     "output_type": "execute_result"
    }
   ],
   "source": [
    "travel(car=True)"
   ]
  },
  {
   "cell_type": "code",
   "execution_count": 1,
   "id": "eaac86c2",
   "metadata": {},
   "outputs": [],
   "source": [
    "def test11(*args):\n",
    "    return args"
   ]
  },
  {
   "cell_type": "code",
   "execution_count": 2,
   "id": "4d7721c8",
   "metadata": {},
   "outputs": [
    {
     "data": {
      "text/plain": [
       "('hamza', 'abid', 34, 45, 32, 67, [45, 66, 77, 88], 'sudh', 'kumar')"
      ]
     },
     "execution_count": 2,
     "metadata": {},
     "output_type": "execute_result"
    }
   ],
   "source": [
    "test11(\"hamza\", \"abid\", 34,45,32,67,[45,66,77,88],\"sudh\",\"kumar\")"
   ]
  },
  {
   "cell_type": "code",
   "execution_count": 3,
   "id": "b1a41761",
   "metadata": {},
   "outputs": [],
   "source": [
    "def test12(*args):\n",
    "    return list(args)"
   ]
  },
  {
   "cell_type": "code",
   "execution_count": 4,
   "id": "636f8b37",
   "metadata": {},
   "outputs": [
    {
     "data": {
      "text/plain": [
       "[[1, 2, 3, 4], [5, 6, 7, 8], [11, 12, 13, 14], [15, 16, 17, 18]]"
      ]
     },
     "execution_count": 4,
     "metadata": {},
     "output_type": "execute_result"
    }
   ],
   "source": [
    "test12([1,2,3,4],[5,6,7,8],[11,12,13,14],[15,16,17,18])"
   ]
  },
  {
   "cell_type": "code",
   "execution_count": 6,
   "id": "789db441",
   "metadata": {},
   "outputs": [
    {
     "data": {
      "text/plain": [
       "function"
      ]
     },
     "execution_count": 6,
     "metadata": {},
     "output_type": "execute_result"
    }
   ],
   "source": [
    "type(test12)"
   ]
  },
  {
   "cell_type": "code",
   "execution_count": 7,
   "id": "e6045298",
   "metadata": {},
   "outputs": [],
   "source": [
    "def test13(*args):\n",
    "    l=[]\n",
    "    for i in args:\n",
    "        l=l+i\n",
    "    return l"
   ]
  },
  {
   "cell_type": "code",
   "execution_count": 8,
   "id": "68931737",
   "metadata": {},
   "outputs": [
    {
     "data": {
      "text/plain": [
       "[12, 34, 42, 16, 54, 67, 76, 53, 36, 99, 80, 17, 19, 48, 27, 10]"
      ]
     },
     "execution_count": 8,
     "metadata": {},
     "output_type": "execute_result"
    }
   ],
   "source": [
    "test13([12,34,42,16],[54,67,76,53],[36,99,80,17],[19,48,27,10])"
   ]
  },
  {
   "cell_type": "code",
   "execution_count": 9,
   "id": "6cb2ebf9",
   "metadata": {},
   "outputs": [],
   "source": [
    "def test14(**kwargs):\n",
    "    return kwargs"
   ]
  },
  {
   "cell_type": "code",
   "execution_count": 10,
   "id": "83b84998",
   "metadata": {},
   "outputs": [
    {
     "data": {
      "text/plain": [
       "{'a': 8, 'b': True, 'c': [12, 13, 14, 15], 'd': 'sudh'}"
      ]
     },
     "execution_count": 10,
     "metadata": {},
     "output_type": "execute_result"
    }
   ],
   "source": [
    "test14(a=8, b=True, c=[12,13,14,15], d=\"sudh\")"
   ]
  },
  {
   "cell_type": "code",
   "execution_count": 14,
   "id": "d1cc2bc5",
   "metadata": {},
   "outputs": [],
   "source": [
    "def test15(*args):\n",
    "    s=[]\n",
    "    N=[]\n",
    "    l=[]\n",
    "    for i in args:\n",
    "        if type(i)==str:\n",
    "            s.append(i)\n",
    "        elif type(i)==int:\n",
    "            N.append(i)\n",
    "        elif type(i)==list:\n",
    "            l.append(i)\n",
    "    return s,N,l"
   ]
  },
  {
   "cell_type": "code",
   "execution_count": 15,
   "id": "f7846a88",
   "metadata": {},
   "outputs": [
    {
     "data": {
      "text/plain": [
       "(['hamza', 'abid', 'sudh', 'kumar'],\n",
       " [34, 56, 66],\n",
       " [[1, 2, 3, 4], [5, 6, 7, 8], [12, 13, 14, 15]])"
      ]
     },
     "execution_count": 15,
     "metadata": {},
     "output_type": "execute_result"
    }
   ],
   "source": [
    "test15(34,56,\"hamza\",66,\"abid\",\"sudh\",[1,2,3,4],\"kumar\",[5,6,7,8],[12,13,14,15])"
   ]
  },
  {
   "cell_type": "code",
   "execution_count": 26,
   "id": "1fa654fd",
   "metadata": {},
   "outputs": [],
   "source": [
    "def test16(*args,**kwargs):\n",
    "    l=[i for i in args if type(i)==list]\n",
    "    d=[i[1] for i in kwargs.items() if type(i[1])==list]\n",
    "    return l,d"
   ]
  },
  {
   "cell_type": "code",
   "execution_count": 27,
   "id": "d0530f9e",
   "metadata": {},
   "outputs": [
    {
     "data": {
      "text/plain": [
       "([[13, 44, 54, 63]], [[4, 5, 6, 7]])"
      ]
     },
     "execution_count": 27,
     "metadata": {},
     "output_type": "execute_result"
    }
   ],
   "source": [
    "test16(34,22,[13,44,54,63],\"string\", a=5, b=\"sudh\", c=[4,5,6,7])"
   ]
  },
  {
   "cell_type": "code",
   "execution_count": 34,
   "id": "6d2e123a",
   "metadata": {},
   "outputs": [],
   "source": [
    "def test17(**kwargs):\n",
    "    for i in kwargs.items():\n",
    "        if type(i[1])==list:\n",
    "            if \"sudh\" in i[1]:\n",
    "                print(\"Yes name is there\")\n",
    "                print(i[1])\n",
    "    return kwargs"
   ]
  },
  {
   "cell_type": "code",
   "execution_count": 35,
   "id": "2e78c889",
   "metadata": {},
   "outputs": [
    {
     "name": "stdout",
     "output_type": "stream",
     "text": [
      "Yes name is there\n",
      "['sudh', 'kumar', 5, 67]\n"
     ]
    },
    {
     "data": {
      "text/plain": [
       "{'b': 6, 'c': [4, 5, 6, 7], 'd': ['sudh', 'kumar', 5, 67], 'n': (6+7j)}"
      ]
     },
     "execution_count": 35,
     "metadata": {},
     "output_type": "execute_result"
    }
   ],
   "source": [
    "test17(b=6, c=[4,5,6,7], d=[\"sudh\",\"kumar\", 5,67], n=6+7j)"
   ]
  },
  {
   "cell_type": "code",
   "execution_count": 36,
   "id": "8e60ab1f",
   "metadata": {},
   "outputs": [],
   "source": [
    "def test18(*args):\n",
    "    dt = {}\n",
    "    for i in args:\n",
    "        if type(i) in dt:\n",
    "            dt[type(i)].append(i)\n",
    "        else:\n",
    "            dt[type(i)]= [i]\n",
    "    return dt\n",
    "    "
   ]
  },
  {
   "cell_type": "code",
   "execution_count": 38,
   "id": "38f25b36",
   "metadata": {},
   "outputs": [
    {
     "data": {
      "text/plain": [
       "{int: [23, 44],\n",
       " str: ['sudh', 'hamza'],\n",
       " list: [[1, 2, 3, 4], [0, 8, 7, 6]],\n",
       " complex: [(6+7j), (4+9j)]}"
      ]
     },
     "execution_count": 38,
     "metadata": {},
     "output_type": "execute_result"
    }
   ],
   "source": [
    "test18(23,44,\"sudh\",[1,2,3,4],\"hamza\",[0,8,7,6],6+7j,4+9j)"
   ]
  },
  {
   "cell_type": "code",
   "execution_count": null,
   "id": "ebad2a60",
   "metadata": {},
   "outputs": [],
   "source": []
  }
 ],
 "metadata": {
  "kernelspec": {
   "display_name": "Python 3 (ipykernel)",
   "language": "python",
   "name": "python3"
  },
  "language_info": {
   "codemirror_mode": {
    "name": "ipython",
    "version": 3
   },
   "file_extension": ".py",
   "mimetype": "text/x-python",
   "name": "python",
   "nbconvert_exporter": "python",
   "pygments_lexer": "ipython3",
   "version": "3.9.7"
  }
 },
 "nbformat": 4,
 "nbformat_minor": 5
}
