{
 "cells": [
  {
   "cell_type": "code",
   "execution_count": 16,
   "id": "7da5a077",
   "metadata": {},
   "outputs": [
    {
     "name": "stdout",
     "output_type": "stream",
     "text": [
      "[34, 43, 56]\n"
     ]
    }
   ],
   "source": [
    "strn=[\"34\",\"43\",\"56\"]\n",
    "strn=list(map(int, strn))\n",
    "print(strn)\n"
   ]
  },
  {
   "cell_type": "code",
   "execution_count": 18,
   "id": "4d82d16a",
   "metadata": {},
   "outputs": [
    {
     "name": "stdout",
     "output_type": "stream",
     "text": [
      "[78, 63, 54, 36, 33, 23]\n"
     ]
    }
   ],
   "source": [
    "l=[23,54,36,78,63,33]\n",
    "c=sorted(l, reverse=True)\n",
    "print(c)"
   ]
  },
  {
   "cell_type": "code",
   "execution_count": 27,
   "id": "0239dd37",
   "metadata": {},
   "outputs": [],
   "source": [
    "import textwrap\n",
    "\n",
    "def wrap(string, max_width):\n",
    "    return textwrap.fill(string, max_width)"
   ]
  },
  {
   "cell_type": "code",
   "execution_count": 37,
   "id": "4befb8b1",
   "metadata": {},
   "outputs": [
    {
     "data": {
      "text/plain": [
       "'ABCD\\nEFGH\\nIJKL\\nMNOP\\nQRST\\nUVWX\\nYZ'"
      ]
     },
     "execution_count": 37,
     "metadata": {},
     "output_type": "execute_result"
    }
   ],
   "source": [
    "wrap(\"ABCDEFGHIJKLMNOPQRSTUVWXYZ\",4)"
   ]
  },
  {
   "cell_type": "code",
   "execution_count": 32,
   "id": "f7ab7d66",
   "metadata": {},
   "outputs": [
    {
     "data": {
      "text/plain": [
       "['weeuweuwe weweuwe webjwbewbe ebjwebjwbe nwewebhwbe wnebwebhwb']"
      ]
     },
     "execution_count": 32,
     "metadata": {},
     "output_type": "execute_result"
    }
   ],
   "source": [
    "string=\"weeuweuwe weweuwe webjwbewbe ebjwebjwbe nwewebhwbe wnebwebhwb\"\n",
    "textwrap.wrap(string)"
   ]
  },
  {
   "cell_type": "code",
   "execution_count": 2,
   "id": "52fffb28",
   "metadata": {},
   "outputs": [
    {
     "name": "stdout",
     "output_type": "stream",
     "text": [
      "5\n",
      "Hamza\n",
      "<map object at 0x000001FC22D2C910>\n"
     ]
    }
   ],
   "source": [
    "n=int(input())\n",
    "arr=map(int, input().split())\n",
    "print(arr)"
   ]
  },
  {
   "cell_type": "code",
   "execution_count": 18,
   "id": "909aed3a",
   "metadata": {},
   "outputs": [
    {
     "name": "stdout",
     "output_type": "stream",
     "text": [
      "5\n",
      "2 4 5 4 7\n",
      "['2', '4', '5', '4', '7']\n",
      "5\n"
     ]
    }
   ],
   "source": [
    "n = int(input())\n",
    "l=str(input())\n",
    "l=l.split()\n",
    "print(l)\n",
    "#l.append(s)\n",
    "l=sorted(l,reverse=True)\n",
    "start_num=l[0]\n",
    "i=0\n",
    "while l[i]==start_num:\n",
    "    run_num=l[i+1]\n",
    "    i+=1\n",
    "print(run_num)\n"
   ]
  },
  {
   "cell_type": "code",
   "execution_count": 3,
   "id": "310f38f4",
   "metadata": {},
   "outputs": [
    {
     "name": "stdout",
     "output_type": "stream",
     "text": [
      "[24, 35, 9, 56, 12]\n"
     ]
    }
   ],
   "source": [
    "def swap_list(new_list):\n",
    "    size=len(new_list)\n",
    "    \n",
    "    temp=new_list[0]\n",
    "    new_list[0]=new_list[size-1]\n",
    "    new_list[size-1]=temp\n",
    "    \n",
    "    return new_list\n",
    "\n",
    "new_list=[12,35,9,56,24]\n",
    "print(swap_list(new_list))"
   ]
  },
  {
   "cell_type": "code",
   "execution_count": 8,
   "id": "9ef8e92c",
   "metadata": {},
   "outputs": [],
   "source": [
    "def swap_list(*args):\n",
    "    l=list(args)\n",
    "    size=len(l)\n",
    "    \n",
    "    temp=l[0]\n",
    "    l[0]=l[size-1]\n",
    "    l[size-1]=temp\n",
    "    \n",
    "    return l\n"
   ]
  },
  {
   "cell_type": "code",
   "execution_count": 10,
   "id": "d6a19408",
   "metadata": {},
   "outputs": [
    {
     "data": {
      "text/plain": [
       "[21, 35, 9, 56, 12, 34, 24]"
      ]
     },
     "execution_count": 10,
     "metadata": {},
     "output_type": "execute_result"
    }
   ],
   "source": [
    "swap_list(24,35,9,56,12,34,21)"
   ]
  },
  {
   "cell_type": "code",
   "execution_count": 55,
   "id": "e91385bc",
   "metadata": {},
   "outputs": [],
   "source": [
    "def swap_fun(*args):\n",
    "    l=list(args)\n",
    "    l[0],l[-1]=l[-1],l[0]\n",
    "    return l    \n"
   ]
  },
  {
   "cell_type": "code",
   "execution_count": 56,
   "id": "03d55d0c",
   "metadata": {},
   "outputs": [
    {
     "ename": "TypeError",
     "evalue": "'list' object is not callable",
     "output_type": "error",
     "traceback": [
      "\u001b[1;31m---------------------------------------------------------------------------\u001b[0m",
      "\u001b[1;31mTypeError\u001b[0m                                 Traceback (most recent call last)",
      "\u001b[1;32mC:\\Users\\MUHAMM~1\\AppData\\Local\\Temp/ipykernel_13112/3798457952.py\u001b[0m in \u001b[0;36m<module>\u001b[1;34m\u001b[0m\n\u001b[1;32m----> 1\u001b[1;33m \u001b[0mswap_fun\u001b[0m\u001b[1;33m(\u001b[0m\u001b[1;36m24\u001b[0m\u001b[1;33m,\u001b[0m\u001b[1;36m35\u001b[0m\u001b[1;33m,\u001b[0m\u001b[1;36m9\u001b[0m\u001b[1;33m,\u001b[0m\u001b[1;36m34\u001b[0m\u001b[1;33m,\u001b[0m\u001b[1;36m12\u001b[0m\u001b[1;33m,\u001b[0m\u001b[1;36m21\u001b[0m\u001b[1;33m,\u001b[0m\u001b[1;36m46\u001b[0m\u001b[1;33m)\u001b[0m\u001b[1;33m\u001b[0m\u001b[1;33m\u001b[0m\u001b[0m\n\u001b[0m",
      "\u001b[1;32mC:\\Users\\MUHAMM~1\\AppData\\Local\\Temp/ipykernel_13112/418387651.py\u001b[0m in \u001b[0;36mswap_fun\u001b[1;34m(*args)\u001b[0m\n\u001b[0;32m      1\u001b[0m \u001b[1;32mdef\u001b[0m \u001b[0mswap_fun\u001b[0m\u001b[1;33m(\u001b[0m\u001b[1;33m*\u001b[0m\u001b[0margs\u001b[0m\u001b[1;33m)\u001b[0m\u001b[1;33m:\u001b[0m\u001b[1;33m\u001b[0m\u001b[1;33m\u001b[0m\u001b[0m\n\u001b[1;32m----> 2\u001b[1;33m     \u001b[0ml\u001b[0m\u001b[1;33m=\u001b[0m\u001b[0mlist\u001b[0m\u001b[1;33m(\u001b[0m\u001b[0margs\u001b[0m\u001b[1;33m)\u001b[0m\u001b[1;33m\u001b[0m\u001b[1;33m\u001b[0m\u001b[0m\n\u001b[0m\u001b[0;32m      3\u001b[0m     \u001b[0ml\u001b[0m\u001b[1;33m[\u001b[0m\u001b[1;36m0\u001b[0m\u001b[1;33m]\u001b[0m\u001b[1;33m,\u001b[0m\u001b[0ml\u001b[0m\u001b[1;33m[\u001b[0m\u001b[1;33m-\u001b[0m\u001b[1;36m1\u001b[0m\u001b[1;33m]\u001b[0m\u001b[1;33m=\u001b[0m\u001b[0ml\u001b[0m\u001b[1;33m[\u001b[0m\u001b[1;33m-\u001b[0m\u001b[1;36m1\u001b[0m\u001b[1;33m]\u001b[0m\u001b[1;33m,\u001b[0m\u001b[0ml\u001b[0m\u001b[1;33m[\u001b[0m\u001b[1;36m0\u001b[0m\u001b[1;33m]\u001b[0m\u001b[1;33m\u001b[0m\u001b[1;33m\u001b[0m\u001b[0m\n\u001b[0;32m      4\u001b[0m     \u001b[1;32mreturn\u001b[0m \u001b[0ml\u001b[0m\u001b[1;33m\u001b[0m\u001b[1;33m\u001b[0m\u001b[0m\n",
      "\u001b[1;31mTypeError\u001b[0m: 'list' object is not callable"
     ]
    }
   ],
   "source": [
    "swap_fun(24,35,9,34,12,21,46)"
   ]
  },
  {
   "cell_type": "code",
   "execution_count": 22,
   "id": "cc40acec",
   "metadata": {},
   "outputs": [
    {
     "name": "stdout",
     "output_type": "stream",
     "text": [
      "1\n",
      "[2, 3, 4, 5, 6]\n",
      "7\n"
     ]
    }
   ],
   "source": [
    "list = [1, 2, 3, 4, 5, 6, 7]\n",
    " \n",
    "a, *b, c = list\n",
    " \n",
    "print(a)\n",
    "print(b)\n",
    "print(c)"
   ]
  },
  {
   "cell_type": "code",
   "execution_count": 21,
   "id": "2cd9e5e7",
   "metadata": {},
   "outputs": [
    {
     "data": {
      "text/plain": [
       "int"
      ]
     },
     "execution_count": 21,
     "metadata": {},
     "output_type": "execute_result"
    }
   ],
   "source": [
    "type(a)"
   ]
  },
  {
   "cell_type": "code",
   "execution_count": 54,
   "id": "74718a39",
   "metadata": {},
   "outputs": [
    {
     "name": "stdout",
     "output_type": "stream",
     "text": [
      "(56, 34, 56, 32, 9, 86, 24)\n"
     ]
    }
   ],
   "source": [
    "def swap_fun_2(list):\n",
    "    start,*middle,end=list\n",
    "    list=end,*middle,start\n",
    "    return list\n",
    "list=[24,34,56,32,9,86,56]\n",
    "print(swap_fun_2(list))"
   ]
  },
  {
   "cell_type": "code",
   "execution_count": 53,
   "id": "2690f98a",
   "metadata": {},
   "outputs": [
    {
     "name": "stdout",
     "output_type": "stream",
     "text": [
      "[24, 35, 9, 56, 12]\n"
     ]
    }
   ],
   "source": [
    "def swapList(list):\n",
    "     \n",
    "    first = list.pop(0)  \n",
    "    last = list.pop(-1)\n",
    "     \n",
    "    list.insert(0, last) \n",
    "    list.append(first)  \n",
    "     \n",
    "    return list\n",
    "     \n",
    "# Driver code\n",
    "newList = [12, 35, 9, 56, 24]\n",
    " \n",
    "print(swapList(newList))"
   ]
  },
  {
   "cell_type": "code",
   "execution_count": 36,
   "id": "6917f4e8",
   "metadata": {},
   "outputs": [
    {
     "data": {
      "text/plain": [
       "[2, 3, 4, 5]"
      ]
     },
     "execution_count": 36,
     "metadata": {},
     "output_type": "execute_result"
    }
   ],
   "source": [
    "l=[1,2,3,4,5]\n",
    "l.remove(1)\n",
    "l"
   ]
  },
  {
   "cell_type": "code",
   "execution_count": 57,
   "id": "a860185c",
   "metadata": {},
   "outputs": [
    {
     "data": {
      "text/plain": [
       "[19, 65, 23, 90]"
      ]
     },
     "execution_count": 57,
     "metadata": {},
     "output_type": "execute_result"
    }
   ],
   "source": [
    "l=[23,65,19,90]\n",
    "l[0],l[2]=l[2],l[0]\n",
    "l"
   ]
  },
  {
   "cell_type": "code",
   "execution_count": 60,
   "id": "06a5ed16",
   "metadata": {},
   "outputs": [
    {
     "name": "stdout",
     "output_type": "stream",
     "text": [
      "[1, 5, 3, 4, 2]\n"
     ]
    }
   ],
   "source": [
    "def swap_fun_3(new_list,post1,post2):\n",
    "    \n",
    "    new_list[post1],new_list[post2]=new_list[post2],new_list[post1]\n",
    "    return new_list\n",
    "new_list=[1,2,3,4,5]\n",
    "post1=1\n",
    "post2=4\n",
    "\n",
    "print(swap_fun_3(new_list,post1,post2))"
   ]
  },
  {
   "cell_type": "code",
   "execution_count": 61,
   "id": "114409b1",
   "metadata": {},
   "outputs": [
    {
     "data": {
      "text/plain": [
       "8"
      ]
     },
     "execution_count": 61,
     "metadata": {},
     "output_type": "execute_result"
    }
   ],
   "source": [
    "l=[1,2,3,4,5,6,7,8]\n",
    "len(l)"
   ]
  },
  {
   "cell_type": "code",
   "execution_count": 62,
   "id": "f5cf60cd",
   "metadata": {},
   "outputs": [
    {
     "name": "stdout",
     "output_type": "stream",
     "text": [
      "Old Name:  Hamza Abid\n",
      "Replaced Name:  Usama Abid\n"
     ]
    }
   ],
   "source": [
    "name=\"Hamza Abid\"\n",
    "old=\"Hamza\"\n",
    "new=\"Usama\"\n",
    "replaced_name=name.replace(old,new)\n",
    "print(\"Old Name: \",name)\n",
    "print(\"Replaced Name: \",replaced_name)\n"
   ]
  },
  {
   "cell_type": "code",
   "execution_count": 79,
   "id": "b2e6e9f5",
   "metadata": {},
   "outputs": [
    {
     "name": "stdout",
     "output_type": "stream",
     "text": [
      "The original list is :  ['Gfg', 'is', 'best', 'for', 'Geeks']\n",
      "List after performing character swaps : ['efg', 'is', 'bGst', 'for', 'eGGks']\n"
     ]
    }
   ],
   "source": [
    "# Initializing list\n",
    "test_list = ['Gfg', 'is', 'best', 'for', 'Geeks']\n",
    "  \n",
    "# printing original lists\n",
    "print(\"The original list is : \" , test_list)\n",
    "  \n",
    "# Swap elements in String list\n",
    "# using replace() + list comprehension\n",
    "res = [i.replace('G', '-').replace('e', 'G').replace('-', 'e') for i in test_list]\n",
    "  \n",
    "# printing result \n",
    "print (\"List after performing character swaps : \" + str(res))"
   ]
  },
  {
   "cell_type": "code",
   "execution_count": null,
   "id": "95fe1c5a",
   "metadata": {},
   "outputs": [],
   "source": []
  }
 ],
 "metadata": {
  "kernelspec": {
   "display_name": "Python 3 (ipykernel)",
   "language": "python",
   "name": "python3"
  },
  "language_info": {
   "codemirror_mode": {
    "name": "ipython",
    "version": 3
   },
   "file_extension": ".py",
   "mimetype": "text/x-python",
   "name": "python",
   "nbconvert_exporter": "python",
   "pygments_lexer": "ipython3",
   "version": "3.9.7"
  }
 },
 "nbformat": 4,
 "nbformat_minor": 5
}
