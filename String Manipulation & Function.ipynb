{
 "cells": [
  {
   "cell_type": "code",
   "execution_count": 6,
   "id": "eaaa1f01",
   "metadata": {},
   "outputs": [
    {
     "name": "stdout",
     "output_type": "stream",
     "text": [
      "Hello Stacy\n"
     ]
    }
   ],
   "source": [
    "name=\"Stacy\"\n",
    "print(\"Hello %s\" %name)"
   ]
  },
  {
   "cell_type": "code",
   "execution_count": 8,
   "id": "b13c2690",
   "metadata": {},
   "outputs": [
    {
     "name": "stdout",
     "output_type": "stream",
     "text": [
      "Hello Holfen Ford, your current balance is 100000\n"
     ]
    }
   ],
   "source": [
    "h=\"Holfen\"\n",
    "f=\"Ford\"\n",
    "i=100000\n",
    "print(\"Hello %s %s, your current balance is %d\" %(h,f,i))"
   ]
  },
  {
   "cell_type": "code",
   "execution_count": 9,
   "id": "bab171de",
   "metadata": {},
   "outputs": [
    {
     "name": "stdout",
     "output_type": "stream",
     "text": [
      "Hello Holfen Ford, your current balance is 100000\n"
     ]
    }
   ],
   "source": [
    "data=(\"Holfen\",\"Ford\",100000)\n",
    "format_string= \"Hello %s %s, your current balance is %d\"\n",
    "\n",
    "print(format_string %data)"
   ]
  },
  {
   "cell_type": "code",
   "execution_count": 11,
   "id": "75135d12",
   "metadata": {},
   "outputs": [
    {
     "name": "stdout",
     "output_type": "stream",
     "text": [
      "20\n"
     ]
    }
   ],
   "source": [
    "dct={\"foo\":10, \"bar\":20}\n",
    "print(\"%(bar)s\" %dct)"
   ]
  },
  {
   "cell_type": "code",
   "execution_count": 17,
   "id": "96502245",
   "metadata": {},
   "outputs": [
    {
     "name": "stdout",
     "output_type": "stream",
     "text": [
      "total number of student:240. total number of girls:  342\n"
     ]
    }
   ],
   "source": [
    "print(\"total number of student:%2d. total number of girls:%5d\" %(240,342))"
   ]
  },
  {
   "cell_type": "code",
   "execution_count": 19,
   "id": "ddbfda1b",
   "metadata": {},
   "outputs": [
    {
     "name": "stdout",
     "output_type": "stream",
     "text": [
      "3.222E+02\n"
     ]
    }
   ],
   "source": [
    "print(\"%.3E\" %(322.23452323))"
   ]
  },
  {
   "cell_type": "code",
   "execution_count": 21,
   "id": "3bb280ad",
   "metadata": {},
   "outputs": [
    {
     "name": "stdout",
     "output_type": "stream",
     "text": [
      "Welcome to graduation cermony in evening\n"
     ]
    }
   ],
   "source": [
    "print(\"Welcome to {f} cermony in {s}\".format(f=\"graduation\",s=\"evening\"))"
   ]
  },
  {
   "cell_type": "code",
   "execution_count": 23,
   "id": "73593625",
   "metadata": {},
   "outputs": [],
   "source": [
    "def test1(first,last):\n",
    "    print(\"Hello {} {}! You just delved into python.\".format(first,last))"
   ]
  },
  {
   "cell_type": "code",
   "execution_count": 25,
   "id": "c2dce4dc",
   "metadata": {},
   "outputs": [
    {
     "name": "stdout",
     "output_type": "stream",
     "text": [
      "Hello Ross Taylor! You just delved into python.\n"
     ]
    }
   ],
   "source": [
    "test1(\"Ross\",\"Taylor\")"
   ]
  },
  {
   "cell_type": "code",
   "execution_count": 26,
   "id": "f64f1ae8",
   "metadata": {},
   "outputs": [
    {
     "data": {
      "text/plain": [
       "'a'"
      ]
     },
     "execution_count": 26,
     "metadata": {},
     "output_type": "execute_result"
    }
   ],
   "source": [
    "string=\"abracadabra\"\n",
    "string[5]"
   ]
  },
  {
   "cell_type": "code",
   "execution_count": 31,
   "id": "6e9582dd",
   "metadata": {},
   "outputs": [
    {
     "data": {
      "text/plain": [
       "3"
      ]
     },
     "execution_count": 31,
     "metadata": {},
     "output_type": "execute_result"
    }
   ],
   "source": [
    "t=(1,2,3,4,5)\n",
    "t[2]"
   ]
  },
  {
   "cell_type": "code",
   "execution_count": 34,
   "id": "82d456c2",
   "metadata": {},
   "outputs": [
    {
     "name": "stdout",
     "output_type": "stream",
     "text": [
      "abrackdabra\n"
     ]
    }
   ],
   "source": [
    "string=\"abracadabra\"\n",
    "l=list(string)\n",
    "l[5]='k'\n",
    "string=''.join(l)\n",
    "print(string)"
   ]
  },
  {
   "cell_type": "code",
   "execution_count": 35,
   "id": "c6ff4cbe",
   "metadata": {},
   "outputs": [
    {
     "data": {
      "text/plain": [
       "str"
      ]
     },
     "execution_count": 35,
     "metadata": {},
     "output_type": "execute_result"
    }
   ],
   "source": [
    "type(string)"
   ]
  },
  {
   "cell_type": "code",
   "execution_count": 37,
   "id": "8c2fc67c",
   "metadata": {},
   "outputs": [
    {
     "data": {
      "text/plain": [
       "'abrackdabra'"
      ]
     },
     "execution_count": 37,
     "metadata": {},
     "output_type": "execute_result"
    }
   ],
   "source": [
    "string"
   ]
  },
  {
   "cell_type": "code",
   "execution_count": 38,
   "id": "2d573403",
   "metadata": {},
   "outputs": [
    {
     "data": {
      "text/plain": [
       "'abraczdabra'"
      ]
     },
     "execution_count": 38,
     "metadata": {},
     "output_type": "execute_result"
    }
   ],
   "source": [
    "string[0:5]+'z'+string[6:11]"
   ]
  },
  {
   "cell_type": "code",
   "execution_count": 39,
   "id": "9ef0bade",
   "metadata": {},
   "outputs": [],
   "source": [
    "def mut_string(string,position,character):\n",
    "    l=list(string)\n",
    "    l[position]=character\n",
    "    c=\"\".join(l)\n",
    "    return c"
   ]
  },
  {
   "cell_type": "code",
   "execution_count": 40,
   "id": "de16332d",
   "metadata": {},
   "outputs": [
    {
     "data": {
      "text/plain": [
       "'abrackdabra'"
      ]
     },
     "execution_count": 40,
     "metadata": {},
     "output_type": "execute_result"
    }
   ],
   "source": [
    "mut_string(\"abracadabra\",5,\"k\")"
   ]
  },
  {
   "cell_type": "code",
   "execution_count": 41,
   "id": "653c4524",
   "metadata": {},
   "outputs": [],
   "source": [
    "def count_substring(string, sub_string):\n",
    "    c=string.count(sub_string)\n",
    "    return c"
   ]
  },
  {
   "cell_type": "code",
   "execution_count": 44,
   "id": "3b6882c4",
   "metadata": {},
   "outputs": [
    {
     "data": {
      "text/plain": [
       "2"
      ]
     },
     "execution_count": 44,
     "metadata": {},
     "output_type": "execute_result"
    }
   ],
   "source": [
    "count_substring(\"My name is hamza abid My Father name is abid hussain\", \"abid\")"
   ]
  },
  {
   "cell_type": "code",
   "execution_count": 45,
   "id": "cfe511b4",
   "metadata": {},
   "outputs": [
    {
     "data": {
      "text/plain": [
       "52"
      ]
     },
     "execution_count": 45,
     "metadata": {},
     "output_type": "execute_result"
    }
   ],
   "source": [
    "len(\"My name is hamza abid My Father name is abid hussain\")"
   ]
  },
  {
   "cell_type": "code",
   "execution_count": 46,
   "id": "7f6578e4",
   "metadata": {},
   "outputs": [],
   "source": [
    "def count_substring(string, sub_string):\n",
    "    count=0\n",
    "    for i in range(len(string)):\n",
    "        for j in range(len(sub_string)):\n",
    "            if string[i+j]==sub_string[j] and j==(len(sub_string)-1):\n",
    "                count=count+1  \n",
    "            if string[i+j]!=sub_string[j]:\n",
    "                break  \n",
    "        if i==len(string)-len(sub_string):\n",
    "            break            \n",
    "    return count"
   ]
  },
  {
   "cell_type": "code",
   "execution_count": 47,
   "id": "3bca13ba",
   "metadata": {},
   "outputs": [
    {
     "data": {
      "text/plain": [
       "2"
      ]
     },
     "execution_count": 47,
     "metadata": {},
     "output_type": "execute_result"
    }
   ],
   "source": [
    "count_substring(\"my name your name\",\"name\")"
   ]
  },
  {
   "cell_type": "code",
   "execution_count": null,
   "id": "7b1abcd1",
   "metadata": {},
   "outputs": [],
   "source": [
    "def count_substring(string, sub_string):\n",
    "    string.count"
   ]
  },
  {
   "cell_type": "code",
   "execution_count": 3,
   "id": "d141d2da",
   "metadata": {},
   "outputs": [
    {
     "name": "stdout",
     "output_type": "stream",
     "text": [
      "ABCD123\n",
      "True\n",
      "False\n",
      "False\n",
      "False\n",
      "True\n"
     ]
    }
   ],
   "source": [
    "s = input()\n",
    "print(s.isalnum())\n",
    "print(s.isalpha())\n",
    "print(s.isdigit())\n",
    "print(s.islower())\n",
    "print(s.isupper())"
   ]
  },
  {
   "cell_type": "code",
   "execution_count": 10,
   "id": "0786611d",
   "metadata": {},
   "outputs": [],
   "source": [
    "def split_and_join(line):\n",
    "    a=line.split(\" \")\n",
    "    for i in a:\n",
    "        c=\"-\".join(a)\n",
    "    return c"
   ]
  },
  {
   "cell_type": "code",
   "execution_count": 11,
   "id": "40be8de2",
   "metadata": {},
   "outputs": [
    {
     "data": {
      "text/plain": [
       "'this-is-a-string'"
      ]
     },
     "execution_count": 11,
     "metadata": {},
     "output_type": "execute_result"
    }
   ],
   "source": [
    "split_and_join(\"this is a string\")"
   ]
  },
  {
   "cell_type": "code",
   "execution_count": 12,
   "id": "489e07b5",
   "metadata": {},
   "outputs": [],
   "source": [
    "def fun2(s):\n",
    "    for i in range(len(s)):\n",
    "        if(s[i].isalpha()):\n",
    "            return True;\n",
    "            break;\n",
    "    return False;"
   ]
  },
  {
   "cell_type": "code",
   "execution_count": 14,
   "id": "c250675a",
   "metadata": {},
   "outputs": [
    {
     "data": {
      "text/plain": [
       "True"
      ]
     },
     "execution_count": 14,
     "metadata": {},
     "output_type": "execute_result"
    }
   ],
   "source": [
    "fun2(\"weqeq\")"
   ]
  },
  {
   "cell_type": "code",
   "execution_count": null,
   "id": "d76caf96",
   "metadata": {},
   "outputs": [],
   "source": []
  }
 ],
 "metadata": {
  "kernelspec": {
   "display_name": "Python 3 (ipykernel)",
   "language": "python",
   "name": "python3"
  },
  "language_info": {
   "codemirror_mode": {
    "name": "ipython",
    "version": 3
   },
   "file_extension": ".py",
   "mimetype": "text/x-python",
   "name": "python",
   "nbconvert_exporter": "python",
   "pygments_lexer": "ipython3",
   "version": "3.9.7"
  }
 },
 "nbformat": 4,
 "nbformat_minor": 5
}
