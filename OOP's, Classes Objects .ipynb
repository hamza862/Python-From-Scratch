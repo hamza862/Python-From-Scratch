{
 "cells": [
  {
   "cell_type": "code",
   "execution_count": 1,
   "id": "063028df",
   "metadata": {},
   "outputs": [],
   "source": [
    "class car:\n",
    "    pass"
   ]
  },
  {
   "cell_type": "code",
   "execution_count": 2,
   "id": "3592838c",
   "metadata": {},
   "outputs": [],
   "source": [
    "audiq7=car()"
   ]
  },
  {
   "cell_type": "code",
   "execution_count": 3,
   "id": "4f5e3a0e",
   "metadata": {},
   "outputs": [
    {
     "data": {
      "text/plain": [
       "<__main__.car at 0x26b34399310>"
      ]
     },
     "execution_count": 3,
     "metadata": {},
     "output_type": "execute_result"
    }
   ],
   "source": [
    "audiq7"
   ]
  },
  {
   "cell_type": "code",
   "execution_count": 4,
   "id": "6df8311c",
   "metadata": {},
   "outputs": [],
   "source": [
    "audiq7.milage = 10\n",
    "audiq7.year = 345\n",
    "audiq7.make = 2020\n",
    "audiq7.model = \"sdssdm\""
   ]
  },
  {
   "cell_type": "code",
   "execution_count": 5,
   "id": "c6db9160",
   "metadata": {},
   "outputs": [
    {
     "data": {
      "text/plain": [
       "10"
      ]
     },
     "execution_count": 5,
     "metadata": {},
     "output_type": "execute_result"
    }
   ],
   "source": [
    "audiq7.milage"
   ]
  },
  {
   "cell_type": "code",
   "execution_count": 6,
   "id": "6e402a9f",
   "metadata": {},
   "outputs": [
    {
     "data": {
      "text/plain": [
       "345"
      ]
     },
     "execution_count": 6,
     "metadata": {},
     "output_type": "execute_result"
    }
   ],
   "source": [
    "audiq7.year"
   ]
  },
  {
   "cell_type": "code",
   "execution_count": 7,
   "id": "fdcc96f3",
   "metadata": {},
   "outputs": [],
   "source": [
    "nano = car()"
   ]
  },
  {
   "cell_type": "code",
   "execution_count": 8,
   "id": "4c439a0e",
   "metadata": {},
   "outputs": [],
   "source": [
    "nano.milage=20\n",
    "nano.year=2020\n",
    "nano.make=435\n",
    "nano.model=\"sdbsh\"\n",
    "nano.enginno= 343424"
   ]
  },
  {
   "cell_type": "code",
   "execution_count": 9,
   "id": "8a247e9e",
   "metadata": {},
   "outputs": [
    {
     "data": {
      "text/plain": [
       "20"
      ]
     },
     "execution_count": 9,
     "metadata": {},
     "output_type": "execute_result"
    }
   ],
   "source": [
    "nano.milage"
   ]
  },
  {
   "cell_type": "code",
   "execution_count": 10,
   "id": "1afe85e7",
   "metadata": {},
   "outputs": [
    {
     "name": "stdout",
     "output_type": "stream",
     "text": [
      "20 10\n"
     ]
    }
   ],
   "source": [
    "print(nano.milage, audiq7.milage)"
   ]
  },
  {
   "cell_type": "code",
   "execution_count": 52,
   "id": "dccf9dfd",
   "metadata": {},
   "outputs": [],
   "source": [
    "class car:\n",
    "    def __init__(self, milage, year, make, model):\n",
    "        self.milage = milage\n",
    "        self.year = year\n",
    "        self.make = make\n",
    "        self.model = model\n",
    "        \n",
    "    def age(self, current_year):\n",
    "        return current_year-self.year\n",
    "    \n",
    "    def milage1(self):\n",
    "        print(\"Print a milage of a car: \",self.milage)\n",
    "        \n",
    "    def __str__(self):\n",
    "        return \"This is a car class I have created\""
   ]
  },
  {
   "cell_type": "code",
   "execution_count": 53,
   "id": "49cfb515",
   "metadata": {},
   "outputs": [],
   "source": [
    "nano1 = car(30, 2022, 342, \"dsdb\")\n",
    "audiq71 = car(40, 2021, 453, \"sdbsd\")"
   ]
  },
  {
   "cell_type": "code",
   "execution_count": 54,
   "id": "84067fe9",
   "metadata": {},
   "outputs": [
    {
     "name": "stdout",
     "output_type": "stream",
     "text": [
      "30 40\n"
     ]
    }
   ],
   "source": [
    "print(nano1.milage, audiq71.milage)"
   ]
  },
  {
   "cell_type": "code",
   "execution_count": 55,
   "id": "012a8010",
   "metadata": {},
   "outputs": [
    {
     "data": {
      "text/plain": [
       "0"
      ]
     },
     "execution_count": 55,
     "metadata": {},
     "output_type": "execute_result"
    }
   ],
   "source": [
    "nano1.age(2022)"
   ]
  },
  {
   "cell_type": "code",
   "execution_count": 56,
   "id": "ce922d97",
   "metadata": {},
   "outputs": [
    {
     "name": "stdout",
     "output_type": "stream",
     "text": [
      "Print a milage of a car:  30\n"
     ]
    }
   ],
   "source": [
    "nano1.milage1()"
   ]
  },
  {
   "cell_type": "code",
   "execution_count": 57,
   "id": "696c54c9",
   "metadata": {},
   "outputs": [
    {
     "name": "stdout",
     "output_type": "stream",
     "text": [
      "This is a car class I have created\n"
     ]
    }
   ],
   "source": [
    "print(nano1)"
   ]
  },
  {
   "cell_type": "code",
   "execution_count": 83,
   "id": "c0bae846",
   "metadata": {},
   "outputs": [],
   "source": [
    "class student:\n",
    "    \n",
    "    def __init__(self, name, roll_num, joining_date, current_topic):\n",
    "        self.name= name\n",
    "        self.roll_num= roll_num\n",
    "        self.joining_date= joining_date\n",
    "        self.current_topic= current_topic\n",
    "        \n",
    "    def name_parsin(self):\n",
    "        if type(self.name) == list:\n",
    "            for i in self.name:\n",
    "                print(\"The name of a student is: \", i)\n",
    "        else:\n",
    "            print(\"Provided name is not in the form of list\")\n",
    "        \n",
    "    def crt_topic(self):\n",
    "        print(\"Current topic of the class is: \",self.current_topic)\n",
    "        \n",
    "    def str_roll_num(self):\n",
    "        try:\n",
    "            if type(self.roll_num) == str:\n",
    "                print(\"do notning\")\n",
    "            else:\n",
    "                return str(self.roll_num)\n",
    "        except Exception as e:\n",
    "            print(\"This is my error message: \", e)\n",
    "        \n",
    "    def duration(self, current_date):\n",
    "        return print(\"The duration of student in my class is: \", current_date - self.joining_date)\n",
    "    \n",
    "    def __str__(self):\n",
    "        return \"This is a student class where student can put their own data and fetch it\"\n",
    "            "
   ]
  },
  {
   "cell_type": "code",
   "execution_count": 84,
   "id": "fec68828",
   "metadata": {},
   "outputs": [],
   "source": [
    "srini = student(\"Srini\", 710170, 2021, \"Oops\")"
   ]
  },
  {
   "cell_type": "code",
   "execution_count": 85,
   "id": "aea64ef2",
   "metadata": {},
   "outputs": [
    {
     "name": "stdout",
     "output_type": "stream",
     "text": [
      "The duration of student in my class is:  1\n"
     ]
    }
   ],
   "source": [
    "srini.duration(2022)"
   ]
  },
  {
   "cell_type": "code",
   "execution_count": 86,
   "id": "cae7ba0e",
   "metadata": {},
   "outputs": [
    {
     "data": {
      "text/plain": [
       "'710170'"
      ]
     },
     "execution_count": 86,
     "metadata": {},
     "output_type": "execute_result"
    }
   ],
   "source": [
    "srini.str_roll_num()"
   ]
  },
  {
   "cell_type": "code",
   "execution_count": 87,
   "id": "44b93846",
   "metadata": {},
   "outputs": [
    {
     "name": "stdout",
     "output_type": "stream",
     "text": [
      "This is a student class where student can put their own data and fetch it\n"
     ]
    }
   ],
   "source": [
    "print(srini)"
   ]
  },
  {
   "cell_type": "code",
   "execution_count": 88,
   "id": "f855b0f1",
   "metadata": {},
   "outputs": [],
   "source": [
    "marur = student(\"Marur\", 342565, 2020, \"Python\")"
   ]
  },
  {
   "cell_type": "code",
   "execution_count": 89,
   "id": "9d81a550",
   "metadata": {},
   "outputs": [],
   "source": [
    "pawan= student([\"Naveen\", \"Himanshu\", \"Jay\", \"Prakash\"], [23532,34342,34343,34224], 2021, \"Oops\")"
   ]
  },
  {
   "cell_type": "code",
   "execution_count": 90,
   "id": "1e7c87d3",
   "metadata": {},
   "outputs": [
    {
     "name": "stdout",
     "output_type": "stream",
     "text": [
      "The name of a student is:  Naveen\n",
      "The name of a student is:  Himanshu\n",
      "The name of a student is:  Jay\n",
      "The name of a student is:  Prakash\n"
     ]
    }
   ],
   "source": [
    "pawan.name_parsin()"
   ]
  },
  {
   "cell_type": "code",
   "execution_count": 212,
   "id": "11227f7a",
   "metadata": {},
   "outputs": [],
   "source": [
    "# Task \n",
    "import logging as lg\n",
    "class data:\n",
    "    \n",
    "    def __init__(self, file_name, file_type, date, size):\n",
    "        self.file_name = file_name\n",
    "        self.file_type = file_type\n",
    "        self.date = date\n",
    "        self.size = size\n",
    "    \n",
    "    # Defined Function to open the and write the file\n",
    "    def file_open(self):\n",
    "        try:\n",
    "            f = open(self.file_name, \"w\")\n",
    "            f.write(input())\n",
    "            f.close()\n",
    "        except Exception as e:\n",
    "            print(\"This is an error message representing: \", e)\n",
    "        \n",
    "    # Defined Function to read the file\n",
    "    def file_read(self):\n",
    "        try:\n",
    "            f=open(self.file_name, \"r\")\n",
    "            print(f.read())\n",
    "            f.close()\n",
    "            print(self.logging_fn())\n",
    "        except Exception as e:\n",
    "            print(\"This is an error messsage representing: \", e)\n",
    "        \n",
    "    # Defined function to append text in existing files\n",
    "    def file_append(self):\n",
    "        try:\n",
    "            f=open(self.file_name, \"a\")\n",
    "            f.write(input())\n",
    "            f.close()\n",
    "        except Exception as e:\n",
    "            print(\"This is an error message representing: \", e)\n",
    "            \n",
    "    # Logging Task\n",
    "    def logging_fn(self):\n",
    "        lg.basicConfig(filename = self.file_name, level = lg.INFO, format = \"%(asctime)s %(levelname)s %(message)s\")\n",
    "        print(lg.info(\"This is an file handling program of raw data\"))\n",
    "        print('\\n')\n",
    "        print(lg.warning(\"This is a warning regarding program\"))"
   ]
  },
  {
   "cell_type": "code",
   "execution_count": 213,
   "id": "e1f8a7c0",
   "metadata": {},
   "outputs": [],
   "source": [
    "data_1 = data(\"file_1\", \"pdf\", 2022, \"30 Mb\")"
   ]
  },
  {
   "cell_type": "code",
   "execution_count": 214,
   "id": "a37d3708",
   "metadata": {},
   "outputs": [
    {
     "name": "stdout",
     "output_type": "stream",
     "text": [
      "I am Hamza Abid. I am 26 years old. I am basically from chakwal. I have done my bachelors from HITEC university in mechanical engineering\n"
     ]
    }
   ],
   "source": [
    "data_1.file_open()"
   ]
  },
  {
   "cell_type": "code",
   "execution_count": 215,
   "id": "9b5cbf6a",
   "metadata": {},
   "outputs": [
    {
     "name": "stdout",
     "output_type": "stream",
     "text": [
      "I am Hamza Abid. I am 26 years old. I am basically from chakwal. I have done my bachelors from HITEC university in mechanical engineering\n",
      "None\n",
      "\n",
      "\n",
      "None\n",
      "None\n"
     ]
    }
   ],
   "source": [
    "data_1.file_read()"
   ]
  },
  {
   "cell_type": "code",
   "execution_count": 216,
   "id": "0209a846",
   "metadata": {
    "scrolled": true
   },
   "outputs": [
    {
     "name": "stdout",
     "output_type": "stream",
     "text": [
      "I have also done my master's from same university in same department. \n"
     ]
    }
   ],
   "source": [
    "data_1.file_append()"
   ]
  },
  {
   "cell_type": "code",
   "execution_count": 217,
   "id": "62d46f08",
   "metadata": {},
   "outputs": [],
   "source": [
    "data_2 = data(\"file_2\", \"pdf\", 2021, \"25 Mb\")"
   ]
  },
  {
   "cell_type": "code",
   "execution_count": 218,
   "id": "8325221b",
   "metadata": {},
   "outputs": [
    {
     "name": "stdout",
     "output_type": "stream",
     "text": [
      "This is Usama Abid brother of Hamza Abid. I am 22 years old. I have done my bachelors in computer science from Comsats University, Wah Cantt.\n"
     ]
    }
   ],
   "source": [
    "data_2.file_open()"
   ]
  },
  {
   "cell_type": "code",
   "execution_count": 219,
   "id": "e29ccc36",
   "metadata": {},
   "outputs": [
    {
     "name": "stdout",
     "output_type": "stream",
     "text": [
      "This is Usama Abid brother of Hamza Abid. I am 22 years old. I have done my bachelors in computer science from Comsats University, Wah Cantt.\n",
      "None\n",
      "\n",
      "\n",
      "None\n",
      "None\n"
     ]
    }
   ],
   "source": [
    "data_2.file_read()"
   ]
  },
  {
   "cell_type": "code",
   "execution_count": 220,
   "id": "9d31202d",
   "metadata": {},
   "outputs": [
    {
     "name": "stdout",
     "output_type": "stream",
     "text": [
      "I am data scientist. I have one year experience in data science.\n"
     ]
    }
   ],
   "source": [
    "data_2.file_append()"
   ]
  },
  {
   "cell_type": "code",
   "execution_count": 221,
   "id": "ad2414eb",
   "metadata": {},
   "outputs": [
    {
     "name": "stdout",
     "output_type": "stream",
     "text": [
      "This is Usama Abid brother of Hamza Abid. I am 22 years old. I have done my bachelors in computer science from Comsats University, Wah Cantt.I am data scientist. I have one year experience in data science.\n",
      "None\n",
      "\n",
      "\n",
      "None\n",
      "None\n"
     ]
    }
   ],
   "source": [
    "data_2.file_read()"
   ]
  },
  {
   "cell_type": "code",
   "execution_count": 222,
   "id": "1c6f50e7",
   "metadata": {},
   "outputs": [
    {
     "name": "stdout",
     "output_type": "stream",
     "text": [
      "I am Hamza Abid. I am 26 years old. I am basically from chakwal. I have done my bachelors from HITEC university in mechanical engineering2022-04-24 21:09:24,075 INFO This is an file handling program of raw data\n",
      "2022-04-24 21:09:24,076 WARNING This is a warning regarding program\n",
      "I have also done my master's from same university in same department. 2022-04-24 21:10:04,644 INFO This is an file handling program of raw data\n",
      "2022-04-24 21:10:04,645 WARNING This is a warning regarding program\n",
      "2022-04-24 21:10:19,584 INFO This is an file handling program of raw data\n",
      "2022-04-24 21:10:19,585 WARNING This is a warning regarding program\n",
      "\n",
      "None\n",
      "\n",
      "\n",
      "None\n",
      "None\n"
     ]
    }
   ],
   "source": [
    "data_1.file_read()"
   ]
  },
  {
   "cell_type": "code",
   "execution_count": 11,
   "id": "46c51279",
   "metadata": {},
   "outputs": [],
   "source": [
    "class test:\n",
    "    \n",
    "    def __init__(self, a, b, c, d):\n",
    "        self.__a = a\n",
    "        self.b = b\n",
    "        self.c = c\n",
    "        self.d = d\n",
    "        \n",
    "    def test_custom(self, v):\n",
    "        return v - self.__a\n",
    "    \n",
    "    def __str__(self):\n",
    "        return \"this my code for abstraction\"\n",
    "    "
   ]
  },
  {
   "cell_type": "code",
   "execution_count": 12,
   "id": "4cc08c78",
   "metadata": {},
   "outputs": [],
   "source": [
    "o = test(4,5,6,7)"
   ]
  },
  {
   "cell_type": "code",
   "execution_count": 13,
   "id": "ddf48a21",
   "metadata": {},
   "outputs": [
    {
     "data": {
      "text/plain": [
       "3"
      ]
     },
     "execution_count": 13,
     "metadata": {},
     "output_type": "execute_result"
    }
   ],
   "source": [
    "o.test_custom(7)"
   ]
  },
  {
   "cell_type": "code",
   "execution_count": 14,
   "id": "5f4d87c8",
   "metadata": {},
   "outputs": [
    {
     "name": "stdout",
     "output_type": "stream",
     "text": [
      "this my code for abstraction\n"
     ]
    }
   ],
   "source": [
    "print(o)"
   ]
  },
  {
   "cell_type": "code",
   "execution_count": 16,
   "id": "a051fa3b",
   "metadata": {},
   "outputs": [
    {
     "ename": "AttributeError",
     "evalue": "'test' object has no attribute '__a'",
     "output_type": "error",
     "traceback": [
      "\u001b[1;31m---------------------------------------------------------------------------\u001b[0m",
      "\u001b[1;31mAttributeError\u001b[0m                            Traceback (most recent call last)",
      "\u001b[1;32mC:\\Users\\MUHAMM~1\\AppData\\Local\\Temp/ipykernel_4464/924825990.py\u001b[0m in \u001b[0;36m<module>\u001b[1;34m\u001b[0m\n\u001b[1;32m----> 1\u001b[1;33m \u001b[0mo\u001b[0m\u001b[1;33m.\u001b[0m\u001b[0m__a\u001b[0m\u001b[1;33m\u001b[0m\u001b[1;33m\u001b[0m\u001b[0m\n\u001b[0m",
      "\u001b[1;31mAttributeError\u001b[0m: 'test' object has no attribute '__a'"
     ]
    }
   ],
   "source": [
    "o.__a"
   ]
  },
  {
   "cell_type": "code",
   "execution_count": 17,
   "id": "0fb3b13f",
   "metadata": {},
   "outputs": [
    {
     "data": {
      "text/plain": [
       "4"
      ]
     },
     "execution_count": 17,
     "metadata": {},
     "output_type": "execute_result"
    }
   ],
   "source": [
    "o._test__a"
   ]
  },
  {
   "cell_type": "code",
   "execution_count": 19,
   "id": "144aea86",
   "metadata": {},
   "outputs": [
    {
     "data": {
      "text/plain": [
       "6"
      ]
     },
     "execution_count": 19,
     "metadata": {},
     "output_type": "execute_result"
    }
   ],
   "source": [
    "class test1(test):\n",
    "    def __init__(self, j, *args):\n",
    "        super(test1,self).__init__(*args)\n",
    "        self.j=j\n",
    "        \n",
    "m=test1(4,5,6,7,8)\n",
    "m.b"
   ]
  },
  {
   "cell_type": "code",
   "execution_count": 20,
   "id": "98ad04ab",
   "metadata": {},
   "outputs": [
    {
     "data": {
      "text/plain": [
       "4"
      ]
     },
     "execution_count": 20,
     "metadata": {},
     "output_type": "execute_result"
    }
   ],
   "source": [
    "m.j"
   ]
  },
  {
   "cell_type": "code",
   "execution_count": 21,
   "id": "f25afe38",
   "metadata": {},
   "outputs": [
    {
     "data": {
      "text/plain": [
       "3"
      ]
     },
     "execution_count": 21,
     "metadata": {},
     "output_type": "execute_result"
    }
   ],
   "source": [
    "m.test_custom(8)"
   ]
  },
  {
   "cell_type": "code",
   "execution_count": 26,
   "id": "c78837cb",
   "metadata": {},
   "outputs": [],
   "source": [
    "class test:\n",
    "    def __init__(self, x):\n",
    "        self.x=x\n",
    "        \n",
    "    def fun_a(self):\n",
    "        print(\"This function belongs to test\")        \n",
    "        "
   ]
  },
  {
   "cell_type": "code",
   "execution_count": 27,
   "id": "898ac4a6",
   "metadata": {},
   "outputs": [],
   "source": [
    "class test1:\n",
    "    def __init__(self, y):\n",
    "        self.e=e\n",
    "        \n",
    "    def fun_a(self):\n",
    "        print(\"This function belongs to test1\")"
   ]
  },
  {
   "cell_type": "code",
   "execution_count": 31,
   "id": "f7b0cdc5",
   "metadata": {},
   "outputs": [
    {
     "ename": "TypeError",
     "evalue": "super() takes at most 2 arguments (3 given)",
     "output_type": "error",
     "traceback": [
      "\u001b[1;31m---------------------------------------------------------------------------\u001b[0m",
      "\u001b[1;31mTypeError\u001b[0m                                 Traceback (most recent call last)",
      "\u001b[1;32mC:\\Users\\MUHAMM~1\\AppData\\Local\\Temp/ipykernel_4464/2326049430.py\u001b[0m in \u001b[0;36m<module>\u001b[1;34m\u001b[0m\n\u001b[0;32m      4\u001b[0m         \u001b[0mself\u001b[0m\u001b[1;33m.\u001b[0m\u001b[0mj\u001b[0m\u001b[1;33m=\u001b[0m\u001b[0mj\u001b[0m\u001b[1;33m\u001b[0m\u001b[1;33m\u001b[0m\u001b[0m\n\u001b[0;32m      5\u001b[0m \u001b[1;33m\u001b[0m\u001b[0m\n\u001b[1;32m----> 6\u001b[1;33m \u001b[0mm\u001b[0m\u001b[1;33m=\u001b[0m\u001b[0mtest2\u001b[0m\u001b[1;33m(\u001b[0m\u001b[1;36m1\u001b[0m\u001b[1;33m,\u001b[0m\u001b[1;36m2\u001b[0m\u001b[1;33m)\u001b[0m\u001b[1;33m\u001b[0m\u001b[1;33m\u001b[0m\u001b[0m\n\u001b[0m\u001b[0;32m      7\u001b[0m \u001b[0mm\u001b[0m\u001b[1;33m.\u001b[0m\u001b[0mx\u001b[0m\u001b[1;33m\u001b[0m\u001b[1;33m\u001b[0m\u001b[0m\n\u001b[0;32m      8\u001b[0m \u001b[0mm\u001b[0m\u001b[1;33m.\u001b[0m\u001b[0my\u001b[0m\u001b[1;33m\u001b[0m\u001b[1;33m\u001b[0m\u001b[0m\n",
      "\u001b[1;32mC:\\Users\\MUHAMM~1\\AppData\\Local\\Temp/ipykernel_4464/2326049430.py\u001b[0m in \u001b[0;36m__init__\u001b[1;34m(self, j, *args)\u001b[0m\n\u001b[0;32m      1\u001b[0m \u001b[1;32mclass\u001b[0m \u001b[0mtest2\u001b[0m\u001b[1;33m(\u001b[0m\u001b[0mtest\u001b[0m\u001b[1;33m,\u001b[0m\u001b[0mtest1\u001b[0m\u001b[1;33m)\u001b[0m\u001b[1;33m:\u001b[0m\u001b[1;33m\u001b[0m\u001b[1;33m\u001b[0m\u001b[0m\n\u001b[0;32m      2\u001b[0m     \u001b[1;32mdef\u001b[0m \u001b[0m__init__\u001b[0m\u001b[1;33m(\u001b[0m\u001b[0mself\u001b[0m\u001b[1;33m,\u001b[0m \u001b[0mj\u001b[0m\u001b[1;33m,\u001b[0m \u001b[1;33m*\u001b[0m\u001b[0margs\u001b[0m\u001b[1;33m)\u001b[0m\u001b[1;33m:\u001b[0m\u001b[1;33m\u001b[0m\u001b[1;33m\u001b[0m\u001b[0m\n\u001b[1;32m----> 3\u001b[1;33m         \u001b[0msuper\u001b[0m\u001b[1;33m(\u001b[0m\u001b[0mtest\u001b[0m\u001b[1;33m,\u001b[0m\u001b[0mtest1\u001b[0m\u001b[1;33m,\u001b[0m\u001b[0mself\u001b[0m\u001b[1;33m)\u001b[0m\u001b[1;33m.\u001b[0m\u001b[0m__init__\u001b[0m\u001b[1;33m(\u001b[0m\u001b[1;33m*\u001b[0m\u001b[0margs\u001b[0m\u001b[1;33m)\u001b[0m\u001b[1;33m\u001b[0m\u001b[1;33m\u001b[0m\u001b[0m\n\u001b[0m\u001b[0;32m      4\u001b[0m         \u001b[0mself\u001b[0m\u001b[1;33m.\u001b[0m\u001b[0mj\u001b[0m\u001b[1;33m=\u001b[0m\u001b[0mj\u001b[0m\u001b[1;33m\u001b[0m\u001b[1;33m\u001b[0m\u001b[0m\n\u001b[0;32m      5\u001b[0m \u001b[1;33m\u001b[0m\u001b[0m\n",
      "\u001b[1;31mTypeError\u001b[0m: super() takes at most 2 arguments (3 given)"
     ]
    }
   ],
   "source": [
    "class test2(test,test1):\n",
    "    def __init__(self, j, *args):\n",
    "        super(test,test1,self).__init__(*args)\n",
    "        self.j=j\n",
    "        \n",
    "m=test2(1,2)\n",
    "m.x\n",
    "m.y\n",
    "m.j"
   ]
  },
  {
   "cell_type": "code",
   "execution_count": 35,
   "id": "be6c8fd1",
   "metadata": {},
   "outputs": [
    {
     "name": "stdout",
     "output_type": "stream",
     "text": [
      "This belong to test\n",
      "This belongs to test1\n"
     ]
    }
   ],
   "source": [
    "class test:\n",
    "    def a(self):\n",
    "        print(\"This belong to test\")\n",
    "        \n",
    "class test1:\n",
    "    def a(self):\n",
    "        print(\"This belongs to test1\")\n",
    "        \n",
    "class test2():\n",
    "    def a(self):\n",
    "        test.a(self)\n",
    "        test1.a(self)\n",
    "        \n",
    "t=test2()\n",
    "t.a()"
   ]
  },
  {
   "cell_type": "code",
   "execution_count": 37,
   "id": "29536a8d",
   "metadata": {},
   "outputs": [
    {
     "name": "stdout",
     "output_type": "stream",
     "text": [
      "Ineuron was eatablished in 2018\n"
     ]
    }
   ],
   "source": [
    "class Ineuron:\n",
    "    company_website = 'http://www.ineuron.ai/'\n",
    "    company_name = 'Ineuron'\n",
    "    \n",
    "    def contact_details(self):\n",
    "        print('Contact us at: ', company_website)\n",
    "        \n",
    "class Datascience(Ineuron):\n",
    "    def __init__(self):\n",
    "        self.year_of_establishment = 2018\n",
    "        \n",
    "    def est_details(self):\n",
    "        print('{0} was eatablished in {1}'.format(self.company_name,self.year_of_establishment))\n",
    "        \n",
    "ds = Datascience()\n",
    "ds.est_details()"
   ]
  },
  {
   "cell_type": "code",
   "execution_count": 42,
   "id": "f39fac1b",
   "metadata": {},
   "outputs": [
    {
     "name": "stdout",
     "output_type": "stream",
     "text": [
      "multi task\n",
      "Name: sudh\n"
     ]
    }
   ],
   "source": [
    "class OS:\n",
    "    multi_task = True\n",
    "    os_name = 'Windows OS'\n",
    "    company_name = 'sudh'\n",
    "    \n",
    "class Windows(OS, Ineuron):\n",
    "    def __init__(self):\n",
    "        if self.multi_task == True:\n",
    "            print('multi task')\n",
    "        print('Name: {}'.format(self.company_name))\n",
    "        \n",
    "window = Windows()"
   ]
  },
  {
   "cell_type": "code",
   "execution_count": 43,
   "id": "be13d3b9",
   "metadata": {},
   "outputs": [
    {
     "name": "stdout",
     "output_type": "stream",
     "text": [
      "multi task\n",
      "Name: Ineuron\n"
     ]
    }
   ],
   "source": [
    "class Windows(Ineuron, OS):\n",
    "    def __init__(self):\n",
    "        if self.multi_task == True:\n",
    "            print('multi task')\n",
    "        print('Name: {}'.format(self.company_name))\n",
    "        \n",
    "window = Windows()"
   ]
  },
  {
   "cell_type": "code",
   "execution_count": 45,
   "id": "70582a4f",
   "metadata": {},
   "outputs": [
    {
     "name": "stdout",
     "output_type": "stream",
     "text": [
      "The INeuron offers total 12 different type of courses. Most trending is Data-Science.\n"
     ]
    }
   ],
   "source": [
    "class iNeuron:\n",
    "    num_of_courses = 12\n",
    "    \n",
    "class Datascience(iNeuron):\n",
    "    course_type = 'Data-Science'\n",
    "    \n",
    "class AI(Datascience):\n",
    "    def __init__(self):\n",
    "        self.company_name = 'INeuron'\n",
    "        print(\"The {0} offers total {1} different type of courses. Most trending is {2}.\".format(self.company_name, self.num_of_courses, self.course_type))\n",
    "\n",
    "AI= AI()"
   ]
  },
  {
   "cell_type": "code",
   "execution_count": 46,
   "id": "69f5756a",
   "metadata": {},
   "outputs": [],
   "source": [
    "#encaptulation"
   ]
  },
  {
   "cell_type": "code",
   "execution_count": 58,
   "id": "54a84a28",
   "metadata": {},
   "outputs": [],
   "source": [
    "class test:\n",
    "    def __init__(self, a, b, c):\n",
    "        self.a = a\n",
    "        self.b = b\n",
    "        self.c = c\n",
    "        \n",
    "    def __str__(self):\n",
    "        return \"This is my return for class test\"\n",
    "        \n",
    "class test1:\n",
    "    def __init__(self, a, b, c):\n",
    "        self.a = a\n",
    "        self.b = b\n",
    "        self.c = c\n",
    "        \n",
    "    def __str__(self):\n",
    "        return \"This is my return for class test1\"\n",
    "        \n",
    "class test2:\n",
    "    def __init__(self, a, b, c):\n",
    "        self.a = a\n",
    "        self.b = b\n",
    "        self.c = c\n",
    "        \n",
    "    def __str__(self):\n",
    "        return \"This is my return for class test2\"\n",
    "        \n",
    "class final:\n",
    "    def __init__(self, x, y, z):\n",
    "        self.x = x\n",
    "        self.y = y\n",
    "        self.z = z\n",
    "        \n",
    "    def __str__(self):\n",
    "        return str(self.x) +\"  \"+ str(self.y) +\"  \"+ str(self.z)"
   ]
  },
  {
   "cell_type": "code",
   "execution_count": 59,
   "id": "67909e5f",
   "metadata": {},
   "outputs": [
    {
     "name": "stdout",
     "output_type": "stream",
     "text": [
      "This is my return for class test  This is my return for class test1  This is my return for class test2\n"
     ]
    }
   ],
   "source": [
    "t= test(4,5,6)\n",
    "t1= test1(5,6,7)\n",
    "t2= test2(3,4,5)\n",
    "f= final(t, t1, t2)\n",
    "print(f)"
   ]
  },
  {
   "cell_type": "code",
   "execution_count": 7,
   "id": "206ed32a",
   "metadata": {},
   "outputs": [
    {
     "name": "stdout",
     "output_type": "stream",
     "text": [
      "Tyres: \n",
      " \tBranch:Pirelli\n",
      "  \tBelted-bias:True\n",
      " \tOptimal Pressure:2.0\n",
      "Engine: \n",
      " \tFuel Type:Diesel\n",
      "  \tNoise Level:3\n",
      "Body: \n",
      " \tSize:Medium\n",
      "Car Name: \n",
      " \tToyota\n"
     ]
    }
   ],
   "source": [
    "class Tyres:\n",
    "    def __init__(self, branch, belted_bias, opt_pressure):\n",
    "        self.branch = branch\n",
    "        self.belted_bias = belted_bias\n",
    "        self.opt_pressure = opt_pressure\n",
    "        \n",
    "    def __str__(self):\n",
    "        return (\"Tyres: \\n \\tBranch:\" + self.branch + \"\\n  \\tBelted-bias:\" + str(self.belted_bias) +\n",
    "               \"\\n \\tOptimal Pressure:\" + str(self.opt_pressure))\n",
    "    \n",
    "class Engine:\n",
    "    def __init__(self, fuel_type, noise_level):\n",
    "        self.fuel_type = fuel_type\n",
    "        self.noise_level = noise_level\n",
    "        \n",
    "    def __str__(self):\n",
    "        return (\"Engine: \\n \\tFuel Type:\" + self.fuel_type +\n",
    "               \"\\n  \\tNoise Level:\" + str(self.noise_level))\n",
    "    \n",
    "class Body:\n",
    "    def __init__(self, size):\n",
    "        self.size = size\n",
    "        \n",
    "    def __str__(self):\n",
    "        return (\"Body: \\n \\tSize:\" + self.size)\n",
    "    \n",
    "class Car:\n",
    "    def __init__(self, name, tyres, engine, body):\n",
    "        self.name = name\n",
    "        self.tyres = tyres\n",
    "        self.engine = engine\n",
    "        self.body = body\n",
    "        \n",
    "    def __str__(self):\n",
    "        return str(self.tyres) + \"\\n\" + str(self.engine) + \"\\n\" + str(self.body) + \"\\n\" + str(self.name)\n",
    "    \n",
    "t = Tyres('Pirelli', True, 2.0)\n",
    "e = Engine('Diesel', 3)\n",
    "b = Body('Medium')\n",
    "c = Car(\"Car Name: \\n \\tToyota\", t, e, b)\n",
    "print(c)"
   ]
  },
  {
   "cell_type": "code",
   "execution_count": 12,
   "id": "479cc49f",
   "metadata": {},
   "outputs": [],
   "source": [
    "class parent:\n",
    "    \n",
    "    a=10\n",
    "    b=40\n",
    "    \n",
    "    def __init__(self, parent_a, parent_b):\n",
    "        self.parent_a = parent_a\n",
    "        self.parent_b = parent_b\n",
    "        \n",
    "class child(parent):\n",
    "    def __int__(self, *args):\n",
    "        super(child,self).__intit__(*args)"
   ]
  },
  {
   "cell_type": "code",
   "execution_count": 29,
   "id": "add919dd",
   "metadata": {},
   "outputs": [
    {
     "name": "stdout",
     "output_type": "stream",
     "text": [
      "Kurdjavka is a Laika born in 1954.\n"
     ]
    }
   ],
   "source": [
    "class Dog:\n",
    "    def __init__(self, name, year_of_birth, breed):\n",
    "        self.name = name\n",
    "        self.year_of_birth = year_of_birth\n",
    "        self._breed = breed\n",
    "        \n",
    "    def __str__(self):\n",
    "        return \"%s is a %s born in %d.\" %(self.name, self._breed, self.year_of_birth)\n",
    "    \n",
    "kurdjavka = Dog(\"Kurdjavka\", 1954, \"Laika\")\n",
    "dog1 = Dog(\"german_shephard\", 2001, \"coco\")\n",
    "dog2 = Dog(\"german_shephard\", 2001, \"coco\")\n",
    "dog3 = Dog(\"german_shephard\", 2001, \"coco\")\n",
    "dog4 = Dog(\"german_shephard\", 2001, \"coco\")\n",
    "dog5 = Dog(\"german_shephard\", 2001, \"coco\")\n",
    "print(kurdjavka)"
   ]
  },
  {
   "cell_type": "code",
   "execution_count": 30,
   "id": "4b47500a",
   "metadata": {},
   "outputs": [],
   "source": [
    "class Student:\n",
    "    def __init__(self, name, student_id, school_name, address):\n",
    "        self.name = name\n",
    "        self.student_id = student_id\n",
    "        self.school_name = school_name\n",
    "        self.address = address\n",
    "    \n",
    "    def __str__(self):\n",
    "        return str(self.name) + \"  \" + str(self.student_id) + \"  \" + str(self.school_name) + \"  \" + str(self.address)"
   ]
  },
  {
   "cell_type": "code",
   "execution_count": 31,
   "id": "80c970f3",
   "metadata": {},
   "outputs": [
    {
     "name": "stdout",
     "output_type": "stream",
     "text": [
      "sudh  454  iNeuron  xyz\n"
     ]
    }
   ],
   "source": [
    "stu = Student(\"sudh\", 454, \"iNeuron\", \"xyz\")\n",
    "print(stu)"
   ]
  },
  {
   "cell_type": "code",
   "execution_count": 33,
   "id": "d4db0f87",
   "metadata": {},
   "outputs": [
    {
     "name": "stdout",
     "output_type": "stream",
     "text": [
      "german_shephard is a coco born in 2001.  435632  dog_sch  abcd\n"
     ]
    }
   ],
   "source": [
    "dog = Student(dog1, 435632, \"dog_sch\", \"abcd\")\n",
    "print(dog)"
   ]
  },
  {
   "cell_type": "code",
   "execution_count": 63,
   "id": "50fa24da",
   "metadata": {},
   "outputs": [],
   "source": [
    "class BonusDistribution:\n",
    "    \n",
    "    def __init__(self, employeeId, employeeRating):\n",
    "        self.empId = employeeId\n",
    "        self.empRating = employeeRating\n",
    "        self.__bonusforRatingA = \"70%\"  #Making value private\n",
    "        self.__bonusforRatingB = \"60%\"  #Making value private\n",
    "        self.__bonusforRatingC = \"50%\"  #Making value private\n",
    "        self.__bonusforRatingD = \"30%\"  #Making value private\n",
    "        self.__bonusforRatingForRest = \"No Bonus\"  #Making value private\n",
    "        \n",
    "    def bonusCalculator(self):\n",
    "        \n",
    "        if self.empRating =='A':\n",
    "            bonus = self.__bonusforRatingA\n",
    "            msg = \"Bonus for this Employee is: \" + bonus\n",
    "            return msg\n",
    "        elif self.empRating =='B':\n",
    "            bonus = self.__bonusforRatingB\n",
    "            msg = \"Bonus for this Employee is: \" + bonus\n",
    "            return msg\n",
    "        elif self.empRating =='C':\n",
    "            bonus = self.__bonusforRatingC\n",
    "            msg = \"Bonus for this Employee is: \" + bonus\n",
    "            return msg\n",
    "        elif self.empRating =='D':\n",
    "            bonus = self.__binusforRatingD\n",
    "            msg = \"Bonus for this Employee is: \" + bonus\n",
    "            return msg\n",
    "        else:\n",
    "            bonus = self.__bonusforRatingForRest\n",
    "            msg = \"Bonus for this Employee is: \" + bonus\n",
    "            return msg\n",
    "        \n",
    "    def __changeVariable(self, value):\n",
    "        self.__bonusforRatingB = value"
   ]
  },
  {
   "cell_type": "code",
   "execution_count": 65,
   "id": "3dc5e148",
   "metadata": {},
   "outputs": [],
   "source": [
    "emp1 = BonusDistribution(1232, 'B')\n",
    "emp2 = BonusDistribution(1342, 'B')\n",
    "emp3 = BonusDistribution(1031, 'E')"
   ]
  },
  {
   "cell_type": "code",
   "execution_count": 66,
   "id": "8773a76d",
   "metadata": {},
   "outputs": [
    {
     "data": {
      "text/plain": [
       "'Bonus for this Employee is: No Bonus'"
      ]
     },
     "execution_count": 66,
     "metadata": {},
     "output_type": "execute_result"
    }
   ],
   "source": [
    "emp3.bonusCalculator()"
   ]
  },
  {
   "cell_type": "code",
   "execution_count": 67,
   "id": "40329159",
   "metadata": {},
   "outputs": [
    {
     "data": {
      "text/plain": [
       "'Bonus for this Employee is: 60%'"
      ]
     },
     "execution_count": 67,
     "metadata": {},
     "output_type": "execute_result"
    }
   ],
   "source": [
    "emp2.bonusCalculator()"
   ]
  },
  {
   "cell_type": "code",
   "execution_count": 68,
   "id": "99bfffae",
   "metadata": {},
   "outputs": [
    {
     "data": {
      "text/plain": [
       "'Bonus for this Employee is: 60%'"
      ]
     },
     "execution_count": 68,
     "metadata": {},
     "output_type": "execute_result"
    }
   ],
   "source": [
    "emp1.bonusCalculator()"
   ]
  },
  {
   "cell_type": "code",
   "execution_count": 69,
   "id": "8fce997a",
   "metadata": {},
   "outputs": [],
   "source": [
    "emp1._BonusDistribution__bonusforRatingB = \"90%\""
   ]
  },
  {
   "cell_type": "code",
   "execution_count": 70,
   "id": "d5236269",
   "metadata": {},
   "outputs": [
    {
     "data": {
      "text/plain": [
       "'Bonus for this Employee is: 90%'"
      ]
     },
     "execution_count": 70,
     "metadata": {},
     "output_type": "execute_result"
    }
   ],
   "source": [
    "emp1.bonusCalculator()"
   ]
  },
  {
   "cell_type": "code",
   "execution_count": 71,
   "id": "c86ab1c9",
   "metadata": {},
   "outputs": [
    {
     "ename": "AttributeError",
     "evalue": "'BonusDistribution' object has no attribute 'changeVariable'",
     "output_type": "error",
     "traceback": [
      "\u001b[1;31m---------------------------------------------------------------------------\u001b[0m",
      "\u001b[1;31mAttributeError\u001b[0m                            Traceback (most recent call last)",
      "\u001b[1;32mC:\\Users\\MUHAMM~1\\AppData\\Local\\Temp/ipykernel_17884/1226151487.py\u001b[0m in \u001b[0;36m<module>\u001b[1;34m\u001b[0m\n\u001b[1;32m----> 1\u001b[1;33m \u001b[0memp1\u001b[0m\u001b[1;33m.\u001b[0m\u001b[0mchangeVariable\u001b[0m\u001b[1;33m(\u001b[0m\u001b[1;34m\"85%\"\u001b[0m\u001b[1;33m)\u001b[0m\u001b[1;33m\u001b[0m\u001b[1;33m\u001b[0m\u001b[0m\n\u001b[0m",
      "\u001b[1;31mAttributeError\u001b[0m: 'BonusDistribution' object has no attribute 'changeVariable'"
     ]
    }
   ],
   "source": [
    "emp1.changeVariable(\"85%\")"
   ]
  },
  {
   "cell_type": "code",
   "execution_count": 72,
   "id": "757bad21",
   "metadata": {},
   "outputs": [
    {
     "data": {
      "text/plain": [
       "'Bonus for this Employee is: 90%'"
      ]
     },
     "execution_count": 72,
     "metadata": {},
     "output_type": "execute_result"
    }
   ],
   "source": [
    "emp1.bonusCalculator()"
   ]
  },
  {
   "cell_type": "code",
   "execution_count": 73,
   "id": "26c75dcc",
   "metadata": {},
   "outputs": [
    {
     "data": {
      "text/plain": [
       "'Bonus for this Employee is: 60%'"
      ]
     },
     "execution_count": 73,
     "metadata": {},
     "output_type": "execute_result"
    }
   ],
   "source": [
    "emp2.bonusCalculator()"
   ]
  },
  {
   "cell_type": "code",
   "execution_count": 74,
   "id": "f24472d9",
   "metadata": {},
   "outputs": [],
   "source": [
    "emp2._BonusDistribution__changeVariable(\"67%\")"
   ]
  },
  {
   "cell_type": "code",
   "execution_count": 75,
   "id": "6526dc1a",
   "metadata": {},
   "outputs": [
    {
     "data": {
      "text/plain": [
       "'Bonus for this Employee is: 67%'"
      ]
     },
     "execution_count": 75,
     "metadata": {},
     "output_type": "execute_result"
    }
   ],
   "source": [
    "emp2.bonusCalculator()"
   ]
  },
  {
   "cell_type": "code",
   "execution_count": 87,
   "id": "02fd9792",
   "metadata": {},
   "outputs": [],
   "source": [
    "class multiplynumeric:\n",
    "    \n",
    "    def __init__(self,a):\n",
    "        self.a = a\n",
    "        \n",
    "    def __mul__(self, other):\n",
    "        return self.a + other.a"
   ]
  },
  {
   "cell_type": "code",
   "execution_count": 88,
   "id": "b8c8df34",
   "metadata": {},
   "outputs": [],
   "source": [
    "mul = multiplynumeric(10)\n",
    "mul1 = multiplynumeric(2)"
   ]
  },
  {
   "cell_type": "code",
   "execution_count": 90,
   "id": "b0b1e99f",
   "metadata": {},
   "outputs": [
    {
     "data": {
      "text/plain": [
       "12"
      ]
     },
     "execution_count": 90,
     "metadata": {},
     "output_type": "execute_result"
    }
   ],
   "source": [
    "mul * mul1"
   ]
  },
  {
   "cell_type": "code",
   "execution_count": 91,
   "id": "af285d65",
   "metadata": {},
   "outputs": [],
   "source": [
    "class ineuron:\n",
    "    def msg(self):\n",
    "        print(\"This is a msg to iNeuron\")\n",
    "        \n",
    "        \n",
    "        \n",
    "class xyz:\n",
    "    \n",
    "    def msg(self):\n",
    "        print(\"This is a msg to xyz\")\n",
    "        "
   ]
  },
  {
   "cell_type": "code",
   "execution_count": 92,
   "id": "a367e141",
   "metadata": {},
   "outputs": [],
   "source": [
    "def test(notes):\n",
    "    notes.msg()"
   ]
  },
  {
   "cell_type": "code",
   "execution_count": 93,
   "id": "799f657a",
   "metadata": {},
   "outputs": [],
   "source": [
    "i = ineuron()\n",
    "x = xyz() "
   ]
  },
  {
   "cell_type": "code",
   "execution_count": 94,
   "id": "ffeeaec7",
   "metadata": {},
   "outputs": [
    {
     "name": "stdout",
     "output_type": "stream",
     "text": [
      "This is a msg to iNeuron\n"
     ]
    }
   ],
   "source": [
    "test(i)"
   ]
  },
  {
   "cell_type": "code",
   "execution_count": 95,
   "id": "c1df2234",
   "metadata": {},
   "outputs": [
    {
     "name": "stdout",
     "output_type": "stream",
     "text": [
      "This is a msg to xyz\n"
     ]
    }
   ],
   "source": [
    "test(x)"
   ]
  },
  {
   "cell_type": "code",
   "execution_count": null,
   "id": "28e29bda",
   "metadata": {},
   "outputs": [],
   "source": []
  }
 ],
 "metadata": {
  "kernelspec": {
   "display_name": "Python 3 (ipykernel)",
   "language": "python",
   "name": "python3"
  },
  "language_info": {
   "codemirror_mode": {
    "name": "ipython",
    "version": 3
   },
   "file_extension": ".py",
   "mimetype": "text/x-python",
   "name": "python",
   "nbconvert_exporter": "python",
   "pygments_lexer": "ipython3",
   "version": "3.9.7"
  }
 },
 "nbformat": 4,
 "nbformat_minor": 5
}
